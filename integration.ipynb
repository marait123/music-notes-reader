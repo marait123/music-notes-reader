{
 "cells": [
  {
   "cell_type": "code",
   "execution_count": 1,
   "metadata": {},
   "outputs": [],
   "source": [
    "from commonfunctions import *\n",
    "import numpy as np\n",
    "import skimage.io as io\n",
    "import matplotlib.pyplot as plt\n",
    "import skimage\n",
    "from skimage.color import rgb2gray\n",
    "from skimage.morphology import disk, square, rectangle as rect\n",
    "from skimage.filters import threshold_otsu, threshold_local\n",
    "\n",
    "from skimage.morphology import(binary_erosion, \n",
    "                               binary_dilation,\n",
    "                               binary_closing,\n",
    "                               skeletonize,\n",
    "                               thin,\n",
    "                               opening\n",
    "                              )\n",
    "from skimage.measure import find_contours\n",
    "\n",
    "from skimage.draw import rectangle\n",
    "import cv2\n",
    "import scipy.stats\n",
    "from sklearn import svm\n"
   ]
  },
  {
   "cell_type": "code",
   "execution_count": 2,
   "metadata": {},
   "outputs": [],
   "source": [
    "import pickle\n",
    "target_img_size = (32, 32)\n",
    "def extract_hog_features(img):\n",
    "    \"\"\"\n",
    "   (i.e win_size, cell_size, ... etc)\n",
    "    \"\"\"\n",
    "    img = cv2.resize(img, target_img_size)\n",
    "    win_size = (32, 32)\n",
    "    cell_size = (4, 4)\n",
    "    block_size_in_cells = (2, 2)\n",
    "    \n",
    "    block_size = (block_size_in_cells[1] * cell_size[1], block_size_in_cells[0] * cell_size[0])\n",
    "    block_stride = (cell_size[1], cell_size[0])\n",
    "    nbins = 9  # Number of orientation bins\n",
    "    hog = cv2.HOGDescriptor(win_size, block_size, block_stride, cell_size, nbins)\n",
    "    h = hog.compute(img)\n",
    "    h = h.flatten()\n",
    "    return h.flatten()\n",
    "\n",
    "def get_model(fileName):\n",
    "    with open(fileName, 'rb') as file:\n",
    "        model = pickle.load(file)\n",
    "        return model\n",
    "    return None\n",
    "def makeSquare(image):\n",
    "    # print(\"shape is \",image.shape)\n",
    "    # plt.figure()\n",
    "    # show_image(image)\n",
    "    if len(image.shape) == 3:\n",
    "        image = cv2.cvtColor(image, cv2.COLOR_BGR2GRAY)\n",
    "    \n",
    "    h1 = image.shape[0]\n",
    "    w1 = image.shape[1]\n",
    "    # print(h1)\n",
    "    # print(w1)\n",
    "    w2 = max(h1, w1)\n",
    "    out_image = np.zeros((w2,w2))\n",
    "\n",
    "    if(w1 > h1):\n",
    "        diff = w1 - h1\n",
    "        out_image[diff//2:diff//2+h1,:] = image\n",
    "    elif (w1 < h1):\n",
    "        diff = h1 - w1\n",
    "        out_image[:,diff//2:diff//2+w1] = image\n",
    "    else:\n",
    "        return image\n",
    "    return out_image\n",
    "def resize_to_size(image, dsize):\n",
    "    return cv2.resize(image, dsize)\n",
    "def pre_process(image,dsize):\n",
    "    sq_image = makeSquare(image)\n",
    "    resized_image = resize_to_size(sq_image, dsize)\n",
    "    img = resized_image.copy()\n",
    "    img = img.astype(np.uint8)\n",
    "    ret2,th2 = cv2.threshold(img,0,255,cv2.THRESH_BINARY+cv2.THRESH_OTSU)\n",
    "    return th2\n",
    "def get_features(img):\n",
    "    img = pre_process(img, (50,50))\n",
    "    features = extract_hog_features(img)  \n",
    "    return features\n",
    "    "
   ]
  },
  {
   "cell_type": "code",
   "execution_count": 3,
   "metadata": {},
   "outputs": [],
   "source": [
    "# classes\n",
    "class staff_meta(object):\n",
    "    division_height = -1\n",
    "    line_thickness = -1\n",
    "    staff_lines_y_coords = []\n",
    "notes_pitch = [\n",
    "    'e',    # bottom line (or the 5th from above)\n",
    "    'f',\n",
    "    'g',\n",
    "    'a',\n",
    "    'b',\n",
    "    'c',\n",
    "    'd'\n",
    "]\n",
    "class notes_pitch(object):\n",
    "    char =   ['e','f','g','a','b','c','d','e','f']\n",
    "    factor = [ 1 , 1 , 1 , 1 , 1 , 2 , 2 , 2 , 2 ]\n",
    "\n",
    "def get_trace_meta(image):\n",
    "    if len(image.shape) != 2:\n",
    "        gray = cv2.cvtColor(image,cv2.COLOR_BGR2GRAY)\n",
    "    else:\n",
    "        gray = image        \n",
    "    thresh = cv2.threshold(gray, 0, 255, cv2.THRESH_BINARY_INV + cv2.THRESH_OTSU)[1]\n",
    "    width = gray.shape[1]//5\n",
    "    # Remove horizontal\n",
    "    horizontal_kernel = cv2.getStructuringElement(cv2.MORPH_RECT, (width,1))\n",
    "\n",
    "    # thresh = cv2.Canny(thresh, 30, 200) \n",
    "    detected_lines = cv2.morphologyEx(thresh, cv2.MORPH_OPEN, horizontal_kernel, iterations=2)\n",
    "\n",
    "    cnts = cv2.findContours(detected_lines, cv2.RETR_EXTERNAL, cv2.CHAIN_APPROX_NONE)\n",
    "    cnts = cnts[0] if len(cnts) == 2 else cnts[1]\n",
    "    division_height=0\n",
    "    h_max = 1\n",
    "    bounding_rects = []\n",
    "    for c in cnts:\n",
    "        bounding_rects.append(cv2.boundingRect(c))\n",
    "\n",
    "    for b_rect in bounding_rects:\n",
    "        X,Y,w,h = b_rect\n",
    "        if h > h_max:\n",
    "            h_max = h\n",
    "    def contour_y(c):\n",
    "        return c[1]\n",
    "    bounding_rects = sorted(bounding_rects, key=contour_y)\n",
    "    lines_y_coordinates = [ b[1] for b in bounding_rects]\n",
    "    div_height = bounding_rects[1][1] - bounding_rects[0][1]\n",
    "    s_meta = staff_meta()\n",
    "    s_meta.division_height = div_height\n",
    "    s_meta.line_thickness = h_max\n",
    "    s_meta.staff_lines_y_coords = lines_y_coordinates\n",
    "    return s_meta\n",
    "def padd_image(img):\n",
    "    \"\"\"\n",
    "    this functions padds an image this is very important \n",
    "    when applying erosion as applying erosion to border \n",
    "    may result false postives\n",
    "    \"\"\"\n",
    "    out_img = np.zeros((img.shape[0]+2,img.shape[1]+2), dtype=np.uint8)\n",
    "    out_img[1:out_img.shape[0]-1,1:out_img.shape[1]-1] = img\n",
    "    return out_img\n"
   ]
  },
  {
   "cell_type": "code",
   "execution_count": 4,
   "metadata": {},
   "outputs": [],
   "source": [
    "# Functions Used in Image Processing \n",
    "def get_noteLine_depending_height(centers,boxes_start_point,trace_info):\n",
    "    #trace_info: staff_meta = get_trace_meta(Charimg)#[Ymin:Ymax,Xmin:Xmax])\n",
    "    #radius = trace_info.division_height//3\n",
    "    #centers = filled_holes_centers(char, radius)\n",
    "    \n",
    "    level = []\n",
    "    for center in centers:\n",
    "        #print(\"Center is :: \", center)\n",
    "        x = center[0]\n",
    "        y = center[1]\n",
    "        x += boxes_start_point[0]\n",
    "        y += boxes_start_point[1]\n",
    "\n",
    "        factor = 0\n",
    "        while trace_info.staff_lines_y_coords[0] > y:\n",
    "            factor += 1\n",
    "            y += 3.5*(trace_info.division_height + trace_info.line_thickness)\n",
    "        while trace_info.staff_lines_y_coords[4] < y:\n",
    "            factor -= 1\n",
    "            y -= 3.5*(trace_info.division_height + trace_info.line_thickness)\n",
    "        map = []\n",
    "        map.append(trace_info.staff_lines_y_coords[4])\n",
    "        i = 4\n",
    "        while i > 0:\n",
    "            map.append((trace_info.staff_lines_y_coords[i] + trace_info.staff_lines_y_coords[i-1]) / 2)\n",
    "            map.append(trace_info.staff_lines_y_coords[i-1])\n",
    "            i -= 1\n",
    "        #print(\"Before abs MAP: \",map)\n",
    "        map = [abs(x - y) for x in map]\n",
    "        #map = abs(map - y)\n",
    "        #print(\"MAP: \",map)\n",
    "        pos = map.index(min(map))\n",
    "        #print(\"POS: \",pos)\n",
    "        obj = notes_pitch()\n",
    "        level.append([obj.char[pos], obj.factor[pos] + factor])\n",
    "    return level"
   ]
  },
  {
   "cell_type": "code",
   "execution_count": 5,
   "metadata": {},
   "outputs": [],
   "source": [
    "\n",
    "def filled_holes_centers(char, radius):\n",
    "    \"\"\"\n",
    "    returns: the centers of the filed holes found in the sym_image\n",
    "    eg: [(x1,y1), (x2,y2)]\n",
    "    arguments:\n",
    "    sym_image: this is an image of small size where the filled_ovals\n",
    "    \"\"\"\n",
    "    padded_char = padd_image(char)    \n",
    "    erroded_image = cv2.erode(padded_char,kernel=disk(radius),iterations = 1)        \n",
    "    b_boxes = get_external_bounding_boxes(erroded_image)\n",
    "    centers = []\n",
    "    for box in b_boxes:\n",
    "        X,Y,w,h = box\n",
    "        cx = X+w//2\n",
    "        cy=Y+h//2\n",
    "        centers.append((cx,cy))\n",
    "\n",
    "    return centers\n"
   ]
  },
  {
   "cell_type": "code",
   "execution_count": 6,
   "metadata": {},
   "outputs": [],
   "source": [
    "def conv_255_true(image):\n",
    "    image[image == 255] = True\n",
    "    image[image == 0] = False\n",
    "    return image\n",
    "def remove_horizontal_wrapper(org_image, inv_image):\n",
    "    # both org_image and inv_image must uint8 \n",
    "    line_width, no_staf_1 = remove_horizontal_lines(org_image)\n",
    "    no_staf_1 = conv_255_true(no_staf_1)\n",
    "    no_staf = no_staf_1\n",
    "    inv_image = conv_255_true(inv_image)\n",
    "    no_staf = np.bitwise_and(no_staf, inv_image)\n",
    "    return no_staf\n",
    "def remove_horizontal_lines(image):\n",
    "    if len(image.shape) != 2:\n",
    "        gray = cv2.cvtColor(image,cv2.COLOR_BGR2GRAY)\n",
    "    else:\n",
    "        gray = image\n",
    "    thresh = cv2.threshold(gray, 0, 255, cv2.THRESH_BINARY_INV + cv2.THRESH_OTSU)[1]\n",
    "    width = gray.shape[1]//5\n",
    "    # Remove horizontal\n",
    "    horizontal_kernel = cv2.getStructuringElement(cv2.MORPH_RECT, (width,1))\n",
    "\n",
    "    # thresh = cv2.Canny(thresh, 30, 200) \n",
    "    detected_lines = cv2.morphologyEx(thresh, cv2.MORPH_OPEN, horizontal_kernel, iterations=2)\n",
    "\n",
    "    cnts = cv2.findContours(detected_lines, cv2.RETR_EXTERNAL, cv2.CHAIN_APPROX_NONE)\n",
    "\n",
    "    cnts = cnts[0] if len(cnts) == 2 else cnts[1]\n",
    "\n",
    "    h_max = 1\n",
    "    for c in cnts:\n",
    "        X,Y,w,h = cv2.boundingRect(c)\n",
    "        if h > h_max:\n",
    "            h_max=h\n",
    "    for c in cnts:   \n",
    "#         print(h_max)\n",
    "        cv2.drawContours(gray, [c], -1, 255, h_max)\n",
    "#         cv2.imshow('result', gray)\n",
    "#         cv2.waitKey()\n",
    "#     cv2.destroyAllWindows()\n",
    "\n",
    "\n",
    "    # Repair image\n",
    "    repair_kernel = cv2.getStructuringElement(cv2.MORPH_RECT, (1,h_max*3))\n",
    "#     print(\"repair\", repair_kernel)\n",
    "    result = 255-cv2.morphologyEx(255 - gray, cv2.MORPH_CLOSE, repair_kernel, iterations=1)\n",
    "#     cv2.imshow('result', gray)\n",
    "#     cv2.waitKey()\n",
    "    result = cv2.threshold(result, 0, 255, cv2.THRESH_BINARY_INV + cv2.THRESH_OTSU)[1]\n",
    "\n",
    "    return h_max,result"
   ]
  },
  {
   "cell_type": "code",
   "execution_count": 7,
   "metadata": {},
   "outputs": [],
   "source": [
    "def get_external_bounding_boxes(img):\n",
    "    \"\"\"\n",
    "    this function takes and image and returns an array\n",
    "    of bounding rectangle [(X1,Y1,W1,H1),(X2,Y2,W2,H2),....]\n",
    "    where \n",
    "    Wi: is the width\n",
    "    Hi: is the height\n",
    "    \"\"\"\n",
    "    cnts = cv2.findContours(img, cv2.RETR_EXTERNAL, cv2.CHAIN_APPROX_SIMPLE)\n",
    "    cnts = cnts[0] if len(cnts) == 2 else cnts[1]\n",
    "    bounding_rects = []\n",
    "    for c in cnts:\n",
    "        b_r = cv2.boundingRect(c)\n",
    "        # X,Y,w,h = b_r\n",
    "        bounding_rects.append(b_r)    # \n",
    "    def contour_x(c):\n",
    "        return c[0]\n",
    "    bounding_rects = sorted(bounding_rects, key=contour_x)\n",
    "    return bounding_rects\n",
    "def draw_external_bounding_boxes(img,b_rects):\n",
    "    out = img.copy()\n",
    "    for b_r in b_rects:\n",
    "        X,Y,w,h = b_r\n",
    "        out = cv2.rectangle(out, (X,Y), (X+w, Y+h),1,3)\n",
    "    return out"
   ]
  },
  {
   "cell_type": "code",
   "execution_count": 8,
   "metadata": {},
   "outputs": [],
   "source": [
    "# common functions\n",
    "def binary_opening(img, selem):\n",
    "    return binary_dilation(binary_erosion(img, selem=selem), selem=selem)\n",
    "\n",
    "def get_bounding_boxes(img,box_aspect_ratio):\n",
    "    \"\"\"\n",
    "    summary: this function returns the bounding boxes sorted according to x-min\n",
    "    parameter:\n",
    "    img: is a binary image for which to find the contours \n",
    "    aspect_ratio: is a tuple where (low_aspect_ratio,high_aspect_ratio)\n",
    "    \"\"\"\n",
    "    contours = find_contours(img,.8, fully_connected=\"low\")\n",
    "    bounding_boxes=[]\n",
    "    for contour in contours:\n",
    "        Xmin= np.min(contour[:,1])\n",
    "        Xmax=np.max(contour[:,1]) \n",
    "        Ymin=np.min(contour[:,0])\n",
    "        Ymax = np.max(contour[:,0])\n",
    "        if(Ymax-Ymin != 0):\n",
    "            aspect_ratio = (Xmax-Xmin)/(Ymax-Ymin)\n",
    "        else:\n",
    "            aspect_ratio = 3000\n",
    "            \n",
    "        if aspect_ratio >= box_aspect_ratio[0] and aspect_ratio <= box_aspect_ratio[1]:\n",
    "            bounding_boxes.append([int(round(Xmin)),int(round(Xmax)),int(round(Ymin)),int(round(Ymax))])\n",
    "    \n",
    "    \n",
    "    def x_min(shape):\n",
    "        return shape[0]             \n",
    "\n",
    "    bounding_boxes = sorted(bounding_boxes, key=x_min)\n",
    "    return bounding_boxes\n",
    "\n",
    "\n",
    "def get_bounded_image(img,bounding_boxes):\n",
    "    conte = np.zeros(img.shape)\n",
    "    for box in bounding_boxes:\n",
    "        [Xmin, Xmax, Ymin, Ymax] = box\n",
    "        rr, cc = rectangle(start = (Ymin,Xmin), end = (Ymax,Xmax), shape=img.shape)\n",
    "        rr = rr.astype(np.int)\n",
    "        cc= cc.astype(np.int)\n",
    "        conte[rr, cc] = 1 #set color white\n",
    "    img2 = np.where(conte==1, img, 0)\n",
    "    return img2\n",
    "def draw_bounding_boxes(img,bounding_boxes):\n",
    "    conte = np.zeros(img.shape)\n",
    "    for box in bounding_boxes:\n",
    "        [Xmin, Xmax, Ymin, Ymax] = box\n",
    "        rr, cc = rectangle(start = (Ymin,Xmin), end = (Ymax,Xmax), shape=img.shape)\n",
    "        rr = rr.astype(np.int)\n",
    "        cc= cc.astype(np.int)\n",
    "        conte[rr, cc] = 1 #set color white\n",
    "    img2 = np.where(conte==1, img, 0)\n",
    "    show_images([conte,img2], ['bounding_boxes','original segmented'])\n"
   ]
  },
  {
   "cell_type": "code",
   "execution_count": 9,
   "metadata": {},
   "outputs": [],
   "source": [
    "# load the models\n",
    "training_files_names = [\n",
    "    '0_oval_model_4',\n",
    "    '1_oval_model_4',\n",
    "    '2_oval_model_4',\n",
    "]\n",
    "models = []\n",
    "for train_file in training_files_names:\n",
    "    model = get_model('models/{}'.format(train_file))\n",
    "    models.append(model)"
   ]
  },
  {
   "cell_type": "code",
   "execution_count": 38,
   "metadata": {},
   "outputs": [
    {
     "data": {
      "text/plain": [
       "True"
      ]
     },
     "execution_count": 38,
     "metadata": {},
     "output_type": "execute_result"
    }
   ],
   "source": [
    "accidentals = {\n",
    "    \"c\":\"#\", # this for sharp #\n",
    "    \"d\":\"\", # this for the natural or neutral\n",
    "    \"e\":\"&\", # this is for the b\n",
    "    \"ee\":\"&&\", # this is for the bb\n",
    "    \"x\":\"##\" , # this for the x or double sharp\n",
    "}\n",
    "\n",
    "numbers = {\n",
    "    \"0\":\"0\",\n",
    "    \"1\":\"1\",\n",
    "    \"2\":\"2\",\n",
    "    \"3\":\"3\",\n",
    "    \"4\":\"4\",\n",
    "    \"5\":\"5\",\n",
    "    \"6\":\"6\",\n",
    "    \"7\":\"7\",\n",
    "    \"8\":\"8\",\n",
    "    \"9\":\"9\"\n",
    "}\n",
    "\n",
    "duration_map = {\n",
    "    \"a_1\":\"1\",\n",
    "    \"a_2\":\"2\",\n",
    "    \"a_4\":\"4\",\n",
    "    \"a_8\":\"8\",\n",
    "    \"a_16\":\"16\",\n",
    "    \"a_32\":\"32\",\n",
    "    \"b_8\":\"8\",\n",
    "    \"b_16\":\"16\",\n",
    "    \"b_32\":\"32\"\n",
    "}\n",
    "\n",
    "class NOTE:\n",
    "    coord = (-1,-1)\n",
    "    note_type =\"\" # this can be number accidental beam chord note clef \n",
    "    pitches = [] # this can be either a1, b2, c3, d1 (every pitch has tow characters eg a,1)\n",
    "    duration = None # this can be 4 8 16 or 32\n",
    "    accedintal_type=\"\"\n",
    "    def representation():\n",
    "        out_str = \"\"\n",
    "        if note_type == \"beam\":\n",
    "            for i,pitch in enumerate(pitches):\n",
    "                outt_str += pitch+\"/\"+duration\n",
    "                if i != len(pitches) - 1:\n",
    "                    out_str += \" \"\n",
    "        elif note_type == \"chord\":\n",
    "            out_str += \"{\"\n",
    "            for i, pitch in enumerate(pitches):\n",
    "                out_str += pitch + \"/\" + duration\n",
    "                if i != len(pitches) - 1:\n",
    "                    out_str += \",\"\n",
    "            out_str += \"}\"\n",
    "        elif note_type == \"note\":\n",
    "            out_str = pitches[0][0] + accidental + pitches[0][1] + \"/\" + duration\n",
    "        return out_str\n",
    "    \n",
    "def is_accidental(char):\n",
    "    return char in accidentals\n",
    "\n",
    "def is_number(char):\n",
    "    return char in numbers\n",
    "\n",
    "is_accidental(\"e\")"
   ]
  },
  {
   "cell_type": "code",
   "execution_count": 47,
   "metadata": {},
   "outputs": [
    {
     "data": {
      "image/png": "[encoded data removed]",
      "text/plain": [
       "<Figure size 432x288 with 1 Axes>"
      ]
     },
     "metadata": {
      "needs_background": "light"
     },
     "output_type": "display_data"
    },
    {
     "data": {
      "image/png": "[encoded data removed]",
      "text/plain": [
       "<Figure size 432x288 with 1 Axes>"
      ]
     },
     "metadata": {
      "needs_background": "light"
     },
     "output_type": "display_data"
    },
    {
     "name": "stdout",
     "output_type": "stream",
     "text": [
      "oval_centers  []\n",
      "this is may be a clef, half, whole , a number or accidentals noise or beam\n",
      "noise\n",
      "\n"
     ]
    },
    {
     "data": {
      "image/png": "[encoded data removed]",
      "text/plain": [
       "<Figure size 432x288 with 1 Axes>"
      ]
     },
     "metadata": {
      "needs_background": "light"
     },
     "output_type": "display_data"
    },
    {
     "name": "stdout",
     "output_type": "stream",
     "text": [
      "oval_centers  []\n",
      "this is may be a clef, half, whole , a number or accidentals noise or beam\n",
      "noise\n",
      "\n"
     ]
    },
    {
     "data": {
      "image/png": "[encoded data removed]",
      "text/plain": [
       "<Figure size 432x288 with 1 Axes>"
      ]
     },
     "metadata": {
      "needs_background": "light"
     },
     "output_type": "display_data"
    },
    {
     "name": "stdout",
     "output_type": "stream",
     "text": [
      "oval_centers  []\n",
      "this is may be a clef, half, whole , a number or accidentals noise or beam\n",
      "z\n",
      "\n"
     ]
    },
    {
     "data": {
      "image/png": "[encoded data removed]",
      "text/plain": [
       "<Figure size 432x288 with 1 Axes>"
      ]
     },
     "metadata": {
      "needs_background": "light"
     },
     "output_type": "display_data"
    },
    {
     "name": "stdout",
     "output_type": "stream",
     "text": [
      "oval_centers  []\n",
      "this is may be a clef, half, whole , a number or accidentals noise or beam\n",
      "c\n",
      "\n"
     ]
    },
    {
     "data": {
      "image/png": "[encoded data removed]",
      "text/plain": [
       "<Figure size 432x288 with 1 Axes>"
      ]
     },
     "metadata": {
      "needs_background": "light"
     },
     "output_type": "display_data"
    },
    {
     "name": "stdout",
     "output_type": "stream",
     "text": [
      "oval_centers  []\n",
      "this is may be a clef, half, whole , a number or accidentals noise or beam\n",
      "4\n",
      "\n"
     ]
    },
    {
     "data": {
      "image/png": "[encoded data removed]",
      "text/plain": [
       "<Figure size 432x288 with 1 Axes>"
      ]
     },
     "metadata": {
      "needs_background": "light"
     },
     "output_type": "display_data"
    },
    {
     "name": "stdout",
     "output_type": "stream",
     "text": [
      "oval_centers  []\n",
      "this may be a dot or noise\n",
      "this is dot probably sum: 1\n"
     ]
    },
    {
     "data": {
      "image/png": "[encoded data removed]",
      "text/plain": [
       "<Figure size 432x288 with 1 Axes>"
      ]
     },
     "metadata": {
      "needs_background": "light"
     },
     "output_type": "display_data"
    },
    {
     "name": "stdout",
     "output_type": "stream",
     "text": [
      "oval_centers  []\n",
      "this may be a dot or noise\n",
      "this is dot probably sum: 1\n"
     ]
    },
    {
     "data": {
      "image/png": "[encoded data removed]",
      "text/plain": [
       "<Figure size 432x288 with 1 Axes>"
      ]
     },
     "metadata": {
      "needs_background": "light"
     },
     "output_type": "display_data"
    },
    {
     "name": "stdout",
     "output_type": "stream",
     "text": [
      "oval_centers  []\n",
      "this may be a dot or noise\n",
      "this is dot probably sum: 1\n"
     ]
    },
    {
     "data": {
      "image/png": "[encoded data removed]",
      "text/plain": [
       "<Figure size 432x288 with 1 Axes>"
      ]
     },
     "metadata": {
      "needs_background": "light"
     },
     "output_type": "display_data"
    },
    {
     "name": "stdout",
     "output_type": "stream",
     "text": [
      "oval_centers  [(12, 66)]\n",
      "this maybe a quarter or 8th or 16th or 32th or a clef\n",
      "a_4\n",
      "\n"
     ]
    },
    {
     "data": {
      "image/png": "[encoded data removed]",
      "text/plain": [
       "<Figure size 432x288 with 1 Axes>"
      ]
     },
     "metadata": {
      "needs_background": "light"
     },
     "output_type": "display_data"
    },
    {
     "name": "stdout",
     "output_type": "stream",
     "text": [
      "oval_centers  [(13, 80)]\n",
      "this maybe a quarter or 8th or 16th or 32th or a clef\n",
      "a_32\n",
      "\n"
     ]
    },
    {
     "data": {
      "image/png": "[encoded data removed]",
      "text/plain": [
       "<Figure size 432x288 with 1 Axes>"
      ]
     },
     "metadata": {
      "needs_background": "light"
     },
     "output_type": "display_data"
    },
    {
     "name": "stdout",
     "output_type": "stream",
     "text": [
      "oval_centers  []\n",
      "this is may be a clef, half, whole , a number or accidentals noise or beam\n",
      "noise\n",
      "\n"
     ]
    },
    {
     "data": {
      "image/png": "[encoded data removed]",
      "text/plain": [
       "<Figure size 432x288 with 1 Axes>"
      ]
     },
     "metadata": {
      "needs_background": "light"
     },
     "output_type": "display_data"
    },
    {
     "name": "stdout",
     "output_type": "stream",
     "text": [
      "oval_centers  []\n",
      "this is may be a clef, half, whole , a number or accidentals noise or beam\n",
      "a_2\n",
      "\n"
     ]
    },
    {
     "data": {
      "image/png": "[encoded data removed]",
      "text/plain": [
       "<Figure size 432x288 with 1 Axes>"
      ]
     },
     "metadata": {
      "needs_background": "light"
     },
     "output_type": "display_data"
    },
    {
     "name": "stdout",
     "output_type": "stream",
     "text": [
      "oval_centers  [(12, 67)]\n",
      "this maybe a quarter or 8th or 16th or 32th or a clef\n",
      "a_8\n",
      "\n"
     ]
    },
    {
     "data": {
      "image/png": "[encoded data removed]",
      "text/plain": [
       "<Figure size 432x288 with 1 Axes>"
      ]
     },
     "metadata": {
      "needs_background": "light"
     },
     "output_type": "display_data"
    },
    {
     "name": "stdout",
     "output_type": "stream",
     "text": [
      "oval_centers  [(13, 67)]\n",
      "this maybe a quarter or 8th or 16th or 32th or a clef\n",
      "a_16\n",
      "\n"
     ]
    },
    {
     "data": {
      "image/png": "[encoded data removed]",
      "text/plain": [
       "<Figure size 432x288 with 1 Axes>"
      ]
     },
     "metadata": {
      "needs_background": "light"
     },
     "output_type": "display_data"
    },
    {
     "name": "stdout",
     "output_type": "stream",
     "text": [
      "oval_centers  [(12, 80)]\n",
      "this maybe a quarter or 8th or 16th or 32th or a clef\n",
      "a_32\n",
      "\n"
     ]
    },
    {
     "data": {
      "image/png": "[encoded data removed]",
      "text/plain": [
       "<Figure size 432x288 with 1 Axes>"
      ]
     },
     "metadata": {
      "needs_background": "light"
     },
     "output_type": "display_data"
    },
    {
     "name": "stdout",
     "output_type": "stream",
     "text": [
      "oval_centers  []\n",
      "this is may be a clef, half, whole , a number or accidentals noise or beam\n",
      "noise\n",
      "\n"
     ]
    },
    {
     "data": {
      "image/png": "[encoded data removed]",
      "text/plain": [
       "<Figure size 432x288 with 1 Axes>"
      ]
     },
     "metadata": {
      "needs_background": "light"
     },
     "output_type": "display_data"
    },
    {
     "name": "stdout",
     "output_type": "stream",
     "text": [
      "oval_centers  [(13, 68), (13, 85)]\n",
      "this is a chord\n",
      "\n"
     ]
    },
    {
     "data": {
      "image/png": "[encoded data removed]",
      "text/plain": [
       "<Figure size 432x288 with 1 Axes>"
      ]
     },
     "metadata": {
      "needs_background": "light"
     },
     "output_type": "display_data"
    },
    {
     "name": "stdout",
     "output_type": "stream",
     "text": [
      "oval_centers  [(13, 67)]\n",
      "this maybe a quarter or 8th or 16th or 32th or a clef\n",
      "a_4\n",
      "\n"
     ]
    },
    {
     "data": {
      "image/png": "[encoded data removed]",
      "text/plain": [
       "<Figure size 432x288 with 1 Axes>"
      ]
     },
     "metadata": {
      "needs_background": "light"
     },
     "output_type": "display_data"
    },
    {
     "name": "stdout",
     "output_type": "stream",
     "text": [
      "oval_centers  [(12, 66), (72, 85)]\n",
      "this is a beam\n",
      "\n"
     ]
    },
    {
     "data": {
      "image/png": "[encoded data removed]",
      "text/plain": [
       "<Figure size 432x288 with 1 Axes>"
      ]
     },
     "metadata": {
      "needs_background": "light"
     },
     "output_type": "display_data"
    },
    {
     "name": "stdout",
     "output_type": "stream",
     "text": [
      "oval_centers  [(12, 80)]\n",
      "this maybe a quarter or 8th or 16th or 32th or a clef\n",
      "a_32\n",
      "\n"
     ]
    },
    {
     "data": {
      "image/png": "[encoded data removed]",
      "text/plain": [
       "<Figure size 432x288 with 1 Axes>"
      ]
     },
     "metadata": {
      "needs_background": "light"
     },
     "output_type": "display_data"
    },
    {
     "name": "stdout",
     "output_type": "stream",
     "text": [
      "oval_centers  [(20, 67)]\n",
      "this maybe a quarter or 8th or 16th or 32th or a clef\n",
      "a_16\n",
      "\n"
     ]
    },
    {
     "data": {
      "image/png": "[encoded data removed]",
      "text/plain": [
       "<Figure size 432x288 with 1 Axes>"
      ]
     },
     "metadata": {
      "needs_background": "light"
     },
     "output_type": "display_data"
    },
    {
     "name": "stdout",
     "output_type": "stream",
     "text": [
      "oval_centers  [(12, 80)]\n",
      "this maybe a quarter or 8th or 16th or 32th or a clef\n",
      "a_32\n",
      "\n"
     ]
    },
    {
     "data": {
      "image/png": "[encoded data removed]",
      "text/plain": [
       "<Figure size 432x288 with 1 Axes>"
      ]
     },
     "metadata": {
      "needs_background": "light"
     },
     "output_type": "display_data"
    },
    {
     "name": "stdout",
     "output_type": "stream",
     "text": [
      "oval_centers  []\n",
      "this is may be a clef, half, whole , a number or accidentals noise or beam\n",
      "noise\n",
      "\n"
     ]
    },
    {
     "data": {
      "image/png": "[encoded data removed]",
      "text/plain": [
       "<Figure size 432x288 with 1 Axes>"
      ]
     },
     "metadata": {
      "needs_background": "light"
     },
     "output_type": "display_data"
    },
    {
     "name": "stdout",
     "output_type": "stream",
     "text": [
      "oval_centers  []\n",
      "this is may be a clef, half, whole , a number or accidentals noise or beam\n",
      "noise\n",
      "\n"
     ]
    },
    {
     "data": {
      "image/png": "[encoded data removed]",
      "text/plain": [
       "<Figure size 432x288 with 1 Axes>"
      ]
     },
     "metadata": {
      "needs_background": "light"
     },
     "output_type": "display_data"
    },
    {
     "name": "stdout",
     "output_type": "stream",
     "text": [
      "oval_centers  []\n",
      "this is may be a clef, half, whole , a number or accidentals noise or beam\n",
      "noise\n",
      "\n"
     ]
    },
    {
     "data": {
      "image/png": "[encoded data removed]",
      "text/plain": [
       "<Figure size 432x288 with 1 Axes>"
      ]
     },
     "metadata": {
      "needs_background": "light"
     },
     "output_type": "display_data"
    },
    {
     "name": "stdout",
     "output_type": "stream",
     "text": [
      "oval_centers  []\n",
      "this is may be a clef, half, whole , a number or accidentals noise or beam\n",
      "noise\n",
      "\n"
     ]
    },
    {
     "data": {
      "image/png": "[encoded data removed]",
      "text/plain": [
       "<Figure size 432x288 with 1 Axes>"
      ]
     },
     "metadata": {
      "needs_background": "light"
     },
     "output_type": "display_data"
    },
    {
     "name": "stdout",
     "output_type": "stream",
     "text": [
      "oval_centers  []\n",
      "this is may be a clef, half, whole , a number or accidentals noise or beam\n",
      "noise\n",
      "\n"
     ]
    },
    {
     "data": {
      "image/png": "[encoded data removed]",
      "text/plain": [
       "<Figure size 432x288 with 1 Axes>"
      ]
     },
     "metadata": {
      "needs_background": "light"
     },
     "output_type": "display_data"
    },
    {
     "name": "stdout",
     "output_type": "stream",
     "text": [
      "oval_centers  []\n",
      "this is may be a clef, half, whole , a number or accidentals noise or beam\n",
      "z\n",
      "\n"
     ]
    },
    {
     "data": {
      "image/png": "[encoded data removed]",
      "text/plain": [
       "<Figure size 432x288 with 1 Axes>"
      ]
     },
     "metadata": {
      "needs_background": "light"
     },
     "output_type": "display_data"
    },
    {
     "name": "stdout",
     "output_type": "stream",
     "text": [
      "oval_centers  []\n",
      "this is may be a clef, half, whole , a number or accidentals noise or beam\n",
      "noise\n",
      "\n"
     ]
    },
    {
     "data": {
      "image/png": "[encoded data removed]",
      "text/plain": [
       "<Figure size 432x288 with 1 Axes>"
      ]
     },
     "metadata": {
      "needs_background": "light"
     },
     "output_type": "display_data"
    },
    {
     "name": "stdout",
     "output_type": "stream",
     "text": [
      "oval_centers  []\n",
      "this is may be a clef, half, whole , a number or accidentals noise or beam\n",
      "noise\n",
      "\n"
     ]
    },
    {
     "data": {
      "image/png": "[encoded data removed]",
      "text/plain": [
       "<Figure size 432x288 with 1 Axes>"
      ]
     },
     "metadata": {
      "needs_background": "light"
     },
     "output_type": "display_data"
    },
    {
     "name": "stdout",
     "output_type": "stream",
     "text": [
      "oval_centers  []\n",
      "this is may be a clef, half, whole , a number or accidentals noise or beam\n",
      "c\n",
      "\n"
     ]
    },
    {
     "data": {
      "image/png": "[encoded data removed]",
      "text/plain": [
       "<Figure size 432x288 with 1 Axes>"
      ]
     },
     "metadata": {
      "needs_background": "light"
     },
     "output_type": "display_data"
    },
    {
     "name": "stdout",
     "output_type": "stream",
     "text": [
      "oval_centers  []\n",
      "this is may be a clef, half, whole , a number or accidentals noise or beam\n",
      "c\n",
      "\n"
     ]
    },
    {
     "data": {
      "image/png": "[encoded data removed]",
      "text/plain": [
       "<Figure size 432x288 with 1 Axes>"
      ]
     },
     "metadata": {
      "needs_background": "light"
     },
     "output_type": "display_data"
    },
    {
     "name": "stdout",
     "output_type": "stream",
     "text": [
      "oval_centers  [(12, 104), (12, 86), (12, 68)]\n",
      "this is a chord\n",
      "\n"
     ]
    },
    {
     "data": {
      "image/png": "[encoded data removed]",
      "text/plain": [
       "<Figure size 432x288 with 1 Axes>"
      ]
     },
     "metadata": {
      "needs_background": "light"
     },
     "output_type": "display_data"
    },
    {
     "name": "stdout",
     "output_type": "stream",
     "text": [
      "oval_centers  [(13, 67), (103, 106)]\n",
      "this is a beam\n",
      "\n"
     ]
    },
    {
     "data": {
      "image/png": "[encoded data removed]",
      "text/plain": [
       "<Figure size 432x288 with 1 Axes>"
      ]
     },
     "metadata": {
      "needs_background": "light"
     },
     "output_type": "display_data"
    },
    {
     "name": "stdout",
     "output_type": "stream",
     "text": [
      "oval_centers  [(20, 113), (65, 75), (109, 105), (153, 94)]\n",
      "this is a beam\n",
      "\n"
     ]
    },
    {
     "data": {
      "image/png": "[encoded data removed]",
      "text/plain": [
       "<Figure size 432x288 with 1 Axes>"
      ]
     },
     "metadata": {
      "needs_background": "light"
     },
     "output_type": "display_data"
    },
    {
     "name": "stdout",
     "output_type": "stream",
     "text": [
      "oval_centers  [(14, 48), (58, 9), (102, 38), (147, 29)]\n",
      "this is a beam\n",
      "\n"
     ]
    },
    {
     "data": {
      "image/png": "[encoded data removed]",
      "text/plain": [
       "<Figure size 432x288 with 1 Axes>"
      ]
     },
     "metadata": {
      "needs_background": "light"
     },
     "output_type": "display_data"
    },
    {
     "name": "stdout",
     "output_type": "stream",
     "text": [
      "oval_centers  []\n",
      "this is may be a clef, half, whole , a number or accidentals noise or beam\n",
      "noise\n",
      "\n"
     ]
    },
    {
     "data": {
      "image/png": "[encoded data removed]",
      "text/plain": [
       "<Figure size 432x288 with 1 Axes>"
      ]
     },
     "metadata": {
      "needs_background": "light"
     },
     "output_type": "display_data"
    },
    {
     "name": "stdout",
     "output_type": "stream",
     "text": [
      "oval_centers  [(12, 96), (13, 67), (33, 86)]\n",
      "this is a chord\n",
      "\n"
     ]
    },
    {
     "data": {
      "image/png": "[encoded data removed]",
      "text/plain": [
       "<Figure size 432x288 with 1 Axes>"
      ]
     },
     "metadata": {
      "needs_background": "light"
     },
     "output_type": "display_data"
    },
    {
     "name": "stdout",
     "output_type": "stream",
     "text": [
      "oval_centers  [(21, 68)]\n",
      "this maybe a quarter or 8th or 16th or 32th or a clef\n",
      "a_4\n",
      "\n"
     ]
    },
    {
     "data": {
      "image/png": "[encoded data removed]",
      "text/plain": [
       "<Figure size 432x288 with 1 Axes>"
      ]
     },
     "metadata": {
      "needs_background": "light"
     },
     "output_type": "display_data"
    },
    {
     "name": "stdout",
     "output_type": "stream",
     "text": [
      "oval_centers  [(12, 68)]\n",
      "this maybe a quarter or 8th or 16th or 32th or a clef\n",
      "a_4\n",
      "\n"
     ]
    },
    {
     "data": {
      "image/png": "[encoded data removed]",
      "text/plain": [
       "<Figure size 432x288 with 1 Axes>"
      ]
     },
     "metadata": {
      "needs_background": "light"
     },
     "output_type": "display_data"
    },
    {
     "name": "stdout",
     "output_type": "stream",
     "text": [
      "oval_centers  []\n",
      "this may be a dot or noise\n",
      "this is dot probably sum: 30\n"
     ]
    },
    {
     "data": {
      "image/png": "[encoded data removed]",
      "text/plain": [
       "<Figure size 432x288 with 1 Axes>"
      ]
     },
     "metadata": {
      "needs_background": "light"
     },
     "output_type": "display_data"
    },
    {
     "name": "stdout",
     "output_type": "stream",
     "text": [
      "oval_centers  [(12, 68)]\n",
      "this maybe a quarter or 8th or 16th or 32th or a clef\n",
      "a_8\n",
      "\n"
     ]
    },
    {
     "data": {
      "image/png": "[encoded data removed]",
      "text/plain": [
       "<Figure size 432x288 with 1 Axes>"
      ]
     },
     "metadata": {
      "needs_background": "light"
     },
     "output_type": "display_data"
    },
    {
     "name": "stdout",
     "output_type": "stream",
     "text": [
      "oval_centers  []\n",
      "this is may be a clef, half, whole , a number or accidentals noise or beam\n",
      "noise\n",
      "\n"
     ]
    },
    {
     "data": {
      "image/png": "[encoded data removed]",
      "text/plain": [
       "<Figure size 432x288 with 1 Axes>"
      ]
     },
     "metadata": {
      "needs_background": "light"
     },
     "output_type": "display_data"
    },
    {
     "name": "stdout",
     "output_type": "stream",
     "text": [
      "oval_centers  [(13, 81)]\n",
      "this maybe a quarter or 8th or 16th or 32th or a clef\n",
      "a_32\n",
      "\n"
     ]
    },
    {
     "data": {
      "image/png": "[encoded data removed]",
      "text/plain": [
       "<Figure size 432x288 with 1 Axes>"
      ]
     },
     "metadata": {
      "needs_background": "light"
     },
     "output_type": "display_data"
    },
    {
     "name": "stdout",
     "output_type": "stream",
     "text": [
      "oval_centers  []\n",
      "this may be a dot or noise\n",
      "this is dot probably sum: 30\n"
     ]
    },
    {
     "data": {
      "image/png": "[encoded data removed]",
      "text/plain": [
       "<Figure size 432x288 with 1 Axes>"
      ]
     },
     "metadata": {
      "needs_background": "light"
     },
     "output_type": "display_data"
    },
    {
     "name": "stdout",
     "output_type": "stream",
     "text": [
      "oval_centers  []\n",
      "this may be a dot or noise\n",
      "this is dot probably sum: 34\n"
     ]
    },
    {
     "data": {
      "image/png": "[encoded data removed]",
      "text/plain": [
       "<Figure size 432x288 with 1 Axes>"
      ]
     },
     "metadata": {
      "needs_background": "light"
     },
     "output_type": "display_data"
    },
    {
     "name": "stdout",
     "output_type": "stream",
     "text": [
      "oval_centers  []\n",
      "this is may be a clef, half, whole , a number or accidentals noise or beam\n",
      "noise\n",
      "\n"
     ]
    },
    {
     "data": {
      "image/png": "[encoded data removed]",
      "text/plain": [
       "<Figure size 432x288 with 1 Axes>"
      ]
     },
     "metadata": {
      "needs_background": "light"
     },
     "output_type": "display_data"
    },
    {
     "name": "stdout",
     "output_type": "stream",
     "text": [
      "oval_centers  []\n",
      "this is may be a clef, half, whole , a number or accidentals noise or beam\n",
      "noise\n",
      "\n"
     ]
    },
    {
     "data": {
      "image/png": "[encoded data removed]",
      "text/plain": [
       "<Figure size 432x288 with 1 Axes>"
      ]
     },
     "metadata": {
      "needs_background": "light"
     },
     "output_type": "display_data"
    },
    {
     "name": "stdout",
     "output_type": "stream",
     "text": [
      "oval_centers  []\n",
      "this is may be a clef, half, whole , a number or accidentals noise or beam\n",
      "noise\n",
      "\n"
     ]
    },
    {
     "data": {
      "image/png": "[encoded data removed]",
      "text/plain": [
       "<Figure size 432x288 with 1 Axes>"
      ]
     },
     "metadata": {
      "needs_background": "light"
     },
     "output_type": "display_data"
    },
    {
     "name": "stdout",
     "output_type": "stream",
     "text": [
      "oval_centers  []\n",
      "this is may be a clef, half, whole , a number or accidentals noise or beam\n",
      "noise\n",
      "\n"
     ]
    },
    {
     "data": {
      "image/png": "[encoded data removed]",
      "text/plain": [
       "<Figure size 432x288 with 1 Axes>"
      ]
     },
     "metadata": {
      "needs_background": "light"
     },
     "output_type": "display_data"
    },
    {
     "name": "stdout",
     "output_type": "stream",
     "text": [
      "oval_centers  []\n",
      "this is may be a clef, half, whole , a number or accidentals noise or beam\n",
      "z\n",
      "\n"
     ]
    },
    {
     "data": {
      "image/png": "[encoded data removed]",
      "text/plain": [
       "<Figure size 432x288 with 1 Axes>"
      ]
     },
     "metadata": {
      "needs_background": "light"
     },
     "output_type": "display_data"
    },
    {
     "name": "stdout",
     "output_type": "stream",
     "text": [
      "oval_centers  []\n",
      "this is may be a clef, half, whole , a number or accidentals noise or beam\n",
      "noise\n",
      "\n"
     ]
    },
    {
     "data": {
      "image/png": "[encoded data removed]",
      "text/plain": [
       "<Figure size 432x288 with 1 Axes>"
      ]
     },
     "metadata": {
      "needs_background": "light"
     },
     "output_type": "display_data"
    },
    {
     "name": "stdout",
     "output_type": "stream",
     "text": [
      "oval_centers  []\n",
      "this is may be a clef, half, whole , a number or accidentals noise or beam\n",
      "noise\n",
      "\n"
     ]
    },
    {
     "data": {
      "image/png": "[encoded data removed]",
      "text/plain": [
       "<Figure size 432x288 with 1 Axes>"
      ]
     },
     "metadata": {
      "needs_background": "light"
     },
     "output_type": "display_data"
    },
    {
     "name": "stdout",
     "output_type": "stream",
     "text": [
      "oval_centers  []\n",
      "this is may be a clef, half, whole , a number or accidentals noise or beam\n",
      "noise\n",
      "\n"
     ]
    },
    {
     "data": {
      "image/png": "[encoded data removed]",
      "text/plain": [
       "<Figure size 432x288 with 1 Axes>"
      ]
     },
     "metadata": {
      "needs_background": "light"
     },
     "output_type": "display_data"
    },
    {
     "name": "stdout",
     "output_type": "stream",
     "text": [
      "oval_centers  []\n",
      "this is may be a clef, half, whole , a number or accidentals noise or beam\n",
      "noise\n",
      "\n"
     ]
    },
    {
     "data": {
      "image/png": "[encoded data removed]",
      "text/plain": [
       "<Figure size 432x288 with 1 Axes>"
      ]
     },
     "metadata": {
      "needs_background": "light"
     },
     "output_type": "display_data"
    },
    {
     "name": "stdout",
     "output_type": "stream",
     "text": [
      "oval_centers  [(12, 67), (56, 67), (100, 67), (145, 67)]\n",
      "this is a beam\n",
      "\n"
     ]
    },
    {
     "data": {
      "image/png": "[encoded data removed]",
      "text/plain": [
       "<Figure size 432x288 with 1 Axes>"
      ]
     },
     "metadata": {
      "needs_background": "light"
     },
     "output_type": "display_data"
    },
    {
     "name": "stdout",
     "output_type": "stream",
     "text": [
      "oval_centers  [(13, 67)]\n",
      "this maybe a quarter or 8th or 16th or 32th or a clef\n",
      "a_4\n",
      "\n"
     ]
    },
    {
     "data": {
      "image/png": "[encoded data removed]",
      "text/plain": [
       "<Figure size 432x288 with 1 Axes>"
      ]
     },
     "metadata": {
      "needs_background": "light"
     },
     "output_type": "display_data"
    },
    {
     "name": "stdout",
     "output_type": "stream",
     "text": [
      "oval_centers  []\n",
      "this is may be a clef, half, whole , a number or accidentals noise or beam\n",
      "c\n",
      "\n"
     ]
    },
    {
     "data": {
      "image/png": "[encoded data removed]",
      "text/plain": [
       "<Figure size 432x288 with 1 Axes>"
      ]
     },
     "metadata": {
      "needs_background": "light"
     },
     "output_type": "display_data"
    },
    {
     "name": "stdout",
     "output_type": "stream",
     "text": [
      "oval_centers  [(13, 67)]\n",
      "this maybe a quarter or 8th or 16th or 32th or a clef\n",
      "a_4\n",
      "\n"
     ]
    },
    {
     "data": {
      "image/png": "[encoded data removed]",
      "text/plain": [
       "<Figure size 432x288 with 1 Axes>"
      ]
     },
     "metadata": {
      "needs_background": "light"
     },
     "output_type": "display_data"
    },
    {
     "name": "stdout",
     "output_type": "stream",
     "text": [
      "oval_centers  [(12, 67)]\n",
      "this maybe a quarter or 8th or 16th or 32th or a clef\n",
      "a_4\n",
      "\n"
     ]
    },
    {
     "data": {
      "image/png": "[encoded data removed]",
      "text/plain": [
       "<Figure size 432x288 with 1 Axes>"
      ]
     },
     "metadata": {
      "needs_background": "light"
     },
     "output_type": "display_data"
    },
    {
     "name": "stdout",
     "output_type": "stream",
     "text": [
      "oval_centers  []\n",
      "this is may be a clef, half, whole , a number or accidentals noise or beam\n",
      "noise\n",
      "\n"
     ]
    },
    {
     "data": {
      "image/png": "[encoded data removed]",
      "text/plain": [
       "<Figure size 432x288 with 1 Axes>"
      ]
     },
     "metadata": {
      "needs_background": "light"
     },
     "output_type": "display_data"
    },
    {
     "name": "stdout",
     "output_type": "stream",
     "text": [
      "oval_centers  []\n",
      "this is may be a clef, half, whole , a number or accidentals noise or beam\n",
      "ee\n",
      "\n"
     ]
    },
    {
     "data": {
      "image/png": "[encoded data removed]",
      "text/plain": [
       "<Figure size 432x288 with 1 Axes>"
      ]
     },
     "metadata": {
      "needs_background": "light"
     },
     "output_type": "display_data"
    },
    {
     "name": "stdout",
     "output_type": "stream",
     "text": [
      "oval_centers  [(13, 67)]\n",
      "this maybe a quarter or 8th or 16th or 32th or a clef\n",
      "a_4\n",
      "\n"
     ]
    },
    {
     "data": {
      "image/png": "[encoded data removed]",
      "text/plain": [
       "<Figure size 432x288 with 1 Axes>"
      ]
     },
     "metadata": {
      "needs_background": "light"
     },
     "output_type": "display_data"
    },
    {
     "name": "stdout",
     "output_type": "stream",
     "text": [
      "oval_centers  []\n",
      "this is may be a clef, half, whole , a number or accidentals noise or beam\n",
      "d\n",
      "\n"
     ]
    },
    {
     "data": {
      "image/png": "[encoded data removed]",
      "text/plain": [
       "<Figure size 432x288 with 1 Axes>"
      ]
     },
     "metadata": {
      "needs_background": "light"
     },
     "output_type": "display_data"
    },
    {
     "name": "stdout",
     "output_type": "stream",
     "text": [
      "oval_centers  [(13, 67)]\n",
      "this maybe a quarter or 8th or 16th or 32th or a clef\n",
      "a_4\n",
      "\n"
     ]
    },
    {
     "data": {
      "image/png": "[encoded data removed]",
      "text/plain": [
       "<Figure size 432x288 with 1 Axes>"
      ]
     },
     "metadata": {
      "needs_background": "light"
     },
     "output_type": "display_data"
    },
    {
     "name": "stdout",
     "output_type": "stream",
     "text": [
      "oval_centers  []\n",
      "this is may be a clef, half, whole , a number or accidentals noise or beam\n",
      "noise\n",
      "\n"
     ]
    },
    {
     "data": {
      "image/png": "[encoded data removed]",
      "text/plain": [
       "<Figure size 432x288 with 1 Axes>"
      ]
     },
     "metadata": {
      "needs_background": "light"
     },
     "output_type": "display_data"
    },
    {
     "name": "stdout",
     "output_type": "stream",
     "text": [
      "oval_centers  [(13, 8)]\n",
      "this maybe a quarter or 8th or 16th or 32th or a clef\n",
      "a_4\n",
      "\n"
     ]
    },
    {
     "data": {
      "image/png": "[encoded data removed]",
      "text/plain": [
       "<Figure size 432x288 with 1 Axes>"
      ]
     },
     "metadata": {
      "needs_background": "light"
     },
     "output_type": "display_data"
    },
    {
     "name": "stdout",
     "output_type": "stream",
     "text": [
      "oval_centers  []\n",
      "this is may be a clef, half, whole , a number or accidentals noise or beam\n",
      "noise\n",
      "\n"
     ]
    },
    {
     "data": {
      "image/png": "[encoded data removed]",
      "text/plain": [
       "<Figure size 432x288 with 1 Axes>"
      ]
     },
     "metadata": {
      "needs_background": "light"
     },
     "output_type": "display_data"
    },
    {
     "name": "stdout",
     "output_type": "stream",
     "text": [
      "oval_centers  []\n",
      "this is may be a clef, half, whole , a number or accidentals noise or beam\n",
      "noise\n",
      "\n"
     ]
    },
    {
     "data": {
      "image/png": "[encoded data removed]",
      "text/plain": [
       "<Figure size 432x288 with 1 Axes>"
      ]
     },
     "metadata": {
      "needs_background": "light"
     },
     "output_type": "display_data"
    },
    {
     "name": "stdout",
     "output_type": "stream",
     "text": [
      "oval_centers  []\n",
      "this is may be a clef, half, whole , a number or accidentals noise or beam\n",
      "noise\n",
      "\n"
     ]
    }
   ],
   "source": [
    "images_paths = [ f\"test-cases/0{i+1}.PNG\" for i in range(10)]\n",
    "\n",
    "original_image = cv2.imread(images_paths[1])\n",
    "\n",
    "gray_image = np.round(rgb2gray(original_image)*255)\n",
    "\n",
    "binary_image = binarize(gray_image)\n",
    "inverted_image = 255 - binary_image\n",
    "show_images([inverted_image], ['inverted_image'])\n",
    "\n",
    "# img be binarized image of size height x width and foregound pixel is white i.e pixel value = 255\n",
    "horizontal_hist = np.sum(inverted_image,axis=1,keepdims=True)/255\n",
    "\n",
    "# plt.plot([i for i in range(horizontal_hist.shape[0])], horizontal_hist)\n",
    "\n",
    "peaks = 0\n",
    "offset = 1\n",
    "j = 0\n",
    "th = int(round(np.max(horizontal_hist)*.95))\n",
    "staff_lines_y=[]\n",
    "while j < len(horizontal_hist):\n",
    "    while j < len(horizontal_hist) and horizontal_hist[j] < th:\n",
    "        j+=1\n",
    "\n",
    "    if j >= len(horizontal_hist):\n",
    "        break\n",
    "    staff_lines_y.append(j)    \n",
    "    peaks+=1\n",
    "    st = j\n",
    "    while j < len(horizontal_hist) and horizontal_hist[j] >= th:\n",
    "        j+=offset\n",
    "number_of_staffs = int(round(peaks/ 5))\n",
    "\n",
    "min_areas_coords = []\n",
    "\n",
    "min_areas_coords.append([0, staff_lines_y[0]])\n",
    "\n",
    "j = 4\n",
    "while j < len(staff_lines_y) - 5:\n",
    "    #print(j)\n",
    "    min_areas_coords.append([staff_lines_y[j],staff_lines_y[j+1]])\n",
    "    j+=5\n",
    "min_areas_coords.append([staff_lines_y[len(staff_lines_y)-1],gray_image.shape[0]])\n",
    "\n",
    "# print(staff_lines_y)\n",
    "division_height = staff_lines_y[1] - staff_lines_y[0]\n",
    "\n",
    "# print(min_areas_coords)\n",
    "thresh_span = division_height # minimum must span thin number of pixels\n",
    "separation_ys = []\n",
    "# print(\"hi\")\n",
    "for min_pair in min_areas_coords:\n",
    "    i = min_pair[0]\n",
    "    minimum = i\n",
    "    min_span = 1\n",
    "    i+=1\n",
    "    while i < min_pair[1]:\n",
    "        if horizontal_hist[minimum] <= horizontal_hist[i]:\n",
    "            min_span += 1\n",
    "        else:\n",
    "            min_span=1\n",
    "            minimum = i\n",
    "        i+=1\n",
    "    separation_ys.append(minimum)\n",
    "\n",
    "#print(separation_ys)\n",
    "staff_boxes = [] # stored as Xmin, Ymin, W, H\n",
    "for i in range(len(separation_ys)-1):\n",
    "    #print(separation_ys[i])\n",
    "    W =inverted_image.shape[1]\n",
    "    H = separation_ys[i+1] - separation_ys[i]\n",
    "    staff_boxes.append([0, separation_ys[i], W, H])\n",
    "    # staff_ys.append([separation_ys[i],separation_ys[i+1]])\n",
    "#print(staff_boxes)\n",
    "\n",
    "file_object = open(\"OutPut.txt\",\"w+\")\n",
    "\n",
    "if len(staff_boxes) > 1:\n",
    "    file_object.write('{\\n')\n",
    "    \n",
    "accidentalFound = ['',False]\n",
    "Number1_Number2 = [ ['',False],['',False] ]\n",
    "\n",
    "def numberCheck():\n",
    "    if Number1_Number2[0][1] and Number1_Number2[1][1] :\n",
    "        file_object.write(f'\\meter<\"{Number1_Number2[0][0]}/{Number1_Number2[1][0]}\"> ')\n",
    "        Number1_Number2[1][1] = Number1_Number2[0][1] = False\n",
    "        \n",
    "def accidental_Saving(level,n):\n",
    "    if accidentalFound[1]:\n",
    "        file_object.write(f'{level}{ accidentals[accidentalFound[0]] }{n}/{ duration_map[char_type[0]] } ')\n",
    "        accidentalFound[1] = False\n",
    "        return True\n",
    "    else: return False\n",
    "\n",
    "for i,box in enumerate(staff_boxes):\n",
    "    file_object.write('[ ')\n",
    "    \n",
    "    Xmin,Ymin, W, H = box\n",
    "    Ymax = Ymin+H\n",
    "    Xmax = Xmin + W\n",
    "    \n",
    "    orig_inv_staff = inverted_image[Ymin:Ymax,Xmin:Xmax].astype(np.uint8)\n",
    "    # show_images([orig_staff])\n",
    "\n",
    "    no_staf=remove_horizontal_wrapper(original_image[Ymin:Ymax,Xmin:Xmax],inverted_image[Ymin:Ymax,Xmin:Xmax].astype(np.uint8) )\n",
    "    # show_images([inverted_image[ Ymin:Ymin+H,Xmin:Xmin+W], no_staf],[\"box\",])\n",
    "    \n",
    "    char_boxes = get_external_bounding_boxes(no_staf)\n",
    "    out = draw_external_bounding_boxes(no_staf, char_boxes)\n",
    "    \n",
    "    # show_images([out,no_staf])\n",
    "    \n",
    "    koko = 0\n",
    "    trace_info: staff_meta = get_trace_meta(original_image[Ymin:Ymax,Xmin:Xmax])\n",
    "\n",
    "    for box in char_boxes:\n",
    "        [Xmin, Ymin, W, H] = [x for x in box]\n",
    "        \n",
    "        # remove blank or noisy area that is less than a line of pixels\n",
    "        char = no_staf[Ymin:Ymin+H,Xmin:Xmin+W]\n",
    "        # remove it\n",
    "        \n",
    "        radius = int(trace_info.division_height // 3 )\n",
    "        oval_centers = filled_holes_centers(char, radius)\n",
    "        # print(\"centers \",centers)\n",
    "        \n",
    "        show_images([char])\n",
    "        \n",
    "        #print(\"aspect ratio\", W/H)\n",
    "        print(\"oval_centers \",oval_centers)\n",
    "        \n",
    "        if W < trace_info.division_height//2 and H < trace_info.division_height//2:\n",
    "            # use the properties of a dot or circle to know for sure it is a dot\n",
    "            print(\"this may be a dot or noise\")\n",
    "            \n",
    "            erroded = padd_image(char)\n",
    "            aspect_ratio = W/H\n",
    "            \n",
    "            if(aspect_ratio > .5 and aspect_ratio < 1.5 ):\n",
    "                print(\"this is dot probably sum: {}\".format(np.sum(char)))\n",
    "                # print(erroded)\n",
    "                # print(disk(W//4))\n",
    "                # erroded = binary_erosion(erroded, selem = disk(W//4))\n",
    "                \n",
    "                erroded = cv2.morphologyEx(erroded, cv2.MORPH_ERODE, disk(W//4), iterations=1)\n",
    "                #show_images([erroded], [\"dot erroded\"])\n",
    "            else:\n",
    "                print(\"this is noise\")\n",
    "        else:\n",
    "            if len(oval_centers) == 0:\n",
    "                print(\"this is may be a clef, half, whole , a number or accidentals noise or beam\")\n",
    "                \n",
    "                char_type = models[0].predict([get_features(char)])\n",
    "                print(char_type[0])\n",
    "                \n",
    "                if char_type[0] != 'noise':\n",
    "                    if is_accidental( char_type[0] ) :\n",
    "                        accidentalFound = [ char_type[0] , True ]\n",
    "\n",
    "                    elif is_number( char_type[0] ) :\n",
    "                        if Number1_Number2[0][1]:\n",
    "                            Number1_Number2[1][1] = True\n",
    "                            Number1_Number2[1][0] = char_type[0]\n",
    "                        else:\n",
    "                            Number1_Number2[0][1] = True\n",
    "                            Number1_Number2[1][0] = char_type[0]\n",
    "\n",
    "                    # Decide to print meter or not\n",
    "                    else:\n",
    "                        # May Miss one or both of the numbers as noise\n",
    "\n",
    "                        if char_type[0] != 'z': \n",
    "                            numberCheck()\n",
    "                            # TO DO Get Half or Whole Level\n",
    "                            if accidental_Saving('level','n') == False:\n",
    "                                file_object.write(f'level/{ duration_map[char_type[0]] } ')\n",
    "\n",
    "                    \n",
    "            elif len(oval_centers) == 1:\n",
    "                print(\"this maybe a quarter or 8th or 16th or 32th or a clef\")\n",
    "                char_type = models[1].predict([get_features(char)])\n",
    "                print(char_type[0])\n",
    "                \n",
    "                if char_type[0] != 'z':\n",
    "                    numberCheck()\n",
    "                        \n",
    "                    level = get_noteLine_depending_height(oval_centers,(Xmin,Ymin),trace_info)\n",
    "                \n",
    "                    if accidental_Saving(level[0][0],level[0][1]) == False:\n",
    "                        file_object.write(f'{level[0][0]}{level[0][1]}/{duration_map[char_type[0]]} ')\n",
    "                \n",
    "            elif len(oval_centers) >= 2:\n",
    "                # print(\"this note is beamed or chords\")\n",
    "                # using the x difference between the 1st 2 centre we can separate between chords \n",
    "                # or beams\n",
    "                \n",
    "                numberCheck()\n",
    "\n",
    "                if oval_centers[1][0] - oval_centers[0][0] > int(1.5*trace_info.division_height):\n",
    "                    print(\"this is a beam\")\n",
    "                    # the model has very low accuracy\n",
    "                    # so i will try hough transform\n",
    "                    beam_type = models[2].predict([get_features(char)])\n",
    "                    \n",
    "                    levels = get_noteLine_depending_height(oval_centers,(Xmin,Ymin),trace_info)\n",
    "                    \n",
    "                     \n",
    "                    \n",
    "                    for level in levels:\n",
    "                        if accidentalFound[1] and level == levels[0] :\n",
    "                            file_object.write(f'{level[0]}{ accidentals[accidentalFound[0]] }{level[1]}/{ duration_map[beam_type[0]] } ')\n",
    "                            accidentalFound[1] = False\n",
    "                        else:\n",
    "                            file_object.write(f'{level[0]}{level[1]}/{ duration_map[beam_type[0]] } ')\n",
    "                else:\n",
    "                    print(\"this is a chord\")\n",
    "                    \n",
    "                    levels = get_noteLine_depending_height(oval_centers,(Xmin,Ymin),trace_info)\n",
    "                    \n",
    "                    file_object.write('{')\n",
    "                    for level in levels:\n",
    "                        file_object.write(f'{level[0]}{level[1]}/{duration_map[beam_type[0]]}')\n",
    "                        if level != levels[len(levels)-1]:\n",
    "                            file_object.write(',')\n",
    "                    file_object.write('} ')\n",
    "            print()\n",
    "            \n",
    "    file_object.write(']\\n')\n",
    "    \n",
    "if len(staff_boxes) > 1:\n",
    "    file_object.write('}')\n",
    "file_object.close()  \n",
    "\n",
    "\n"
   ]
  },
  {
   "cell_type": "code",
   "execution_count": null,
   "metadata": {},
   "outputs": [],
   "source": []
  }
 ],
 "metadata": {
  "kernelspec": {
   "display_name": "Python 3",
   "language": "python",
   "name": "python3"
  },
  "language_info": {
   "codemirror_mode": {
    "name": "ipython",
    "version": 3
   },
   "file_extension": ".py",
   "mimetype": "text/x-python",
   "name": "python",
   "nbconvert_exporter": "python",
   "pygments_lexer": "ipython3",
   "version": "3.8.3"
  }
 },
 "nbformat": 4,
 "nbformat_minor": 4
}
