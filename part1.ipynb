{
 "cells": [
  {
   "cell_type": "code",
   "execution_count": 1,
   "metadata": {},
   "outputs": [],
   "source": [
    "from scipy.ndimage.morphology import binary_hit_or_miss\n",
    "from commonfunctions import *\n",
    "import numpy as np\n",
    "import skimage.io as io\n",
    "import matplotlib.pyplot as plt\n",
    "import skimage\n",
    "from skimage.color import rgb2gray\n",
    "from skimage.morphology import disk, square, rectangle as rect\n",
    "import scipy.stats\n",
    "\n",
    "from skimage.morphology import(binary_erosion, \n",
    "                               binary_dilation,\n",
    "                               binary_closing,\n",
    "                               skeletonize,\n",
    "                               thin,\n",
    "                               opening\n",
    "                              )\n",
    "from skimage.measure import find_contours\n",
    "from skimage.filters import rank\n",
    "from skimage.draw import rectangle\n",
    "from skimage.filters import threshold_otsu, gaussian\n",
    "from skimage import feature\n"
   ]
  },
  {
   "cell_type": "code",
   "execution_count": 2,
   "metadata": {},
   "outputs": [
    {
     "name": "stdout",
     "output_type": "stream",
     "text": [
      "hi\n"
     ]
    }
   ],
   "source": [
    "import cv2\n",
    "if ' ':\n",
    "    print('hi')\n",
    "    \n",
    "def cv_show(image):\n",
    "    image=np.uint8(image)\n",
    "    cv2.imshow(\"image\", image)\n",
    "    cv2.waitKey(0)\n",
    "    cv2.destroyAllWindows()"
   ]
  },
  {
   "cell_type": "code",
   "execution_count": 3,
   "metadata": {},
   "outputs": [],
   "source": [
    "# omar do those\n",
    "def which_number(num_image):\n",
    "    \"\"\"\n",
    "    returns: zero is image wasn't a number\n",
    "    or returns the number that it represents either\n",
    "    1, 2, 3, 4, ...., 9\n",
    "    \n",
    "    arguments:\n",
    "    num_image: this is an image of small size\n",
    "    \"\"\"\n",
    "    pass\n",
    "\n",
    "def which_symbol_division(sym_image):\n",
    "    \"\"\"\n",
    "    returns which duration eg, if a/4 return 4, if a/8 return 8, if a/16, a/32 \n",
    "    if not any one return 0\n",
    "    \n",
    "    arguments:\n",
    "    sym_image: this is an image of small size\n",
    "    \"\"\"\n",
    "    pass\n",
    "\n"
   ]
  },
  {
   "cell_type": "code",
   "execution_count": 4,
   "metadata": {},
   "outputs": [],
   "source": [
    "# atia do this\n",
    "\n",
    "\n",
    "def number_of_beams(sym_image):\n",
    "    \"\"\"\n",
    "    returns the number of beams that are found in beaming symbols    \n",
    "    arguments:\n",
    "    sym_image: this is an image of small size\n",
    "    \"\"\"\n",
    "    pass\n",
    "\n",
    "def filled_holes_centers(sym_image):\n",
    "    \"\"\"\n",
    "    returns: the centers of the filed holes found in the sym_image\n",
    "    eg: [(x1,y1), (x2,y2)]\n",
    "    arguments:\n",
    "    sym_image: this is an image of small size\n",
    "    \"\"\"\n",
    "    pass\n",
    "\n",
    "def which_accidentals(sym_image):\n",
    "    \"\"\"\n",
    "    returns: accidental is found in that image\n",
    "    returns '#' if # or '&' if b or ' '(space) if neutral '##' if X '&&' if bb\n",
    "    or return ''(empty) or None if not any of these\n",
    "    arguments:\n",
    "    sym_image: this is an image of small size\n",
    "    \"\"\"\n",
    "    pass"
   ]
  },
  {
   "cell_type": "code",
   "execution_count": 5,
   "metadata": {},
   "outputs": [],
   "source": [
    "def remove_horizontal_lines(image):\n",
    "    if len(image.shape) != 2:\n",
    "        gray = cv2.cvtColor(image,cv2.COLOR_BGR2GRAY)\n",
    "    else:\n",
    "        gray = image\n",
    "    thresh = cv2.threshold(gray, 0, 255, cv2.THRESH_BINARY_INV + cv2.THRESH_OTSU)[1]\n",
    "    width = gray.shape[1]//5\n",
    "    # Remove horizontal\n",
    "    horizontal_kernel = cv2.getStructuringElement(cv2.MORPH_RECT, (width,1))\n",
    "\n",
    "    # thresh = cv2.Canny(thresh, 30, 200) \n",
    "    detected_lines = cv2.morphologyEx(thresh, cv2.MORPH_OPEN, horizontal_kernel, iterations=2)\n",
    "\n",
    "    cnts = cv2.findContours(detected_lines, cv2.RETR_EXTERNAL, cv2.CHAIN_APPROX_NONE)\n",
    "\n",
    "    cnts = cnts[0] if len(cnts) == 2 else cnts[1]\n",
    "\n",
    "    h_max = 1\n",
    "    for c in cnts:\n",
    "        X,Y,w,h = cv2.boundingRect(c)\n",
    "        if h > h_max:\n",
    "            h_max = h\n",
    "    for c in cnts:   \n",
    "#         print(h_max)\n",
    "        cv2.drawContours(gray, [c], -1, 255, h_max)\n",
    "#         cv2.imshow('result', gray)\n",
    "#         cv2.waitKey()\n",
    "#     cv2.destroyAllWindows()\n",
    "\n",
    "\n",
    "    # Repair image\n",
    "    repair_kernel = cv2.getStructuringElement(cv2.MORPH_RECT, (1,h_max*3))\n",
    "#     print(\"repair\", repair_kernel)\n",
    "    result = 255-cv2.morphologyEx(255 - gray, cv2.MORPH_CLOSE, repair_kernel, iterations=1)\n",
    "#     cv2.imshow('result', gray)\n",
    "#     cv2.waitKey()\n",
    "    result = cv2.threshold(result, 0, 255, cv2.THRESH_BINARY_INV + cv2.THRESH_OTSU)[1]\n",
    "\n",
    "    return h_max,result"
   ]
  },
  {
   "cell_type": "code",
   "execution_count": null,
   "metadata": {},
   "outputs": [],
   "source": []
  },
  {
   "cell_type": "code",
   "execution_count": 14,
   "metadata": {},
   "outputs": [],
   "source": [
    "# common functions\n",
    "def read_Image(imgLocation):\n",
    "    original_image = io.imread(imgLocation)\n",
    "    if len(original_image.shape) != 2:\n",
    "        gray_image = cv2.cvtColor(original_image, cv2.COLOR_BGR2GRAY)\n",
    "    else:\n",
    "        gray_image = original_image\n",
    "    binary_image = binarize(gray_image)\n",
    "    return binary_image\n",
    "def binary_opening(img, selem):\n",
    "    return binary_dilation(binary_erosion(img, selem=selem), selem=selem)\n",
    "def get_bounding_boxes(img,box_aspect_ratio):\n",
    "    \"\"\"\n",
    "    summary: this function returns the bounding boxes sorted according to x-min\n",
    "    parameter:\n",
    "    img: is a binary image for which to find the contours \n",
    "    aspect_ratio: is a tuple where (low_aspect_ratio,high_aspect_ratio)\n",
    "    \"\"\"\n",
    "    contours = find_contours(img,.8)\n",
    "    bounding_boxes=[]\n",
    "    for contour in contours:\n",
    "        Xmin= np.min(contour[:,1])\n",
    "        Xmax=np.max(contour[:,1]) \n",
    "        Ymin=np.min(contour[:,0])\n",
    "        Ymax = np.max(contour[:,0])\n",
    "        if(Ymax-Ymin != 0):\n",
    "            aspect_ratio = (Xmax-Xmin)/(Ymax-Ymin)\n",
    "        else:\n",
    "            aspect_ratio = 3000\n",
    "            \n",
    "        if aspect_ratio >= box_aspect_ratio[0] and aspect_ratio <= box_aspect_ratio[1]:\n",
    "            bounding_boxes.append([int(round(Xmin)),int(round(Xmax)),int(round(Ymin)),int(round(Ymax))])\n",
    "    \n",
    "    \n",
    "    def x_min(shape):\n",
    "        return shape[0]             \n",
    "\n",
    "    bounding_boxes = sorted(bounding_boxes, key=x_min)\n",
    "    \n",
    "    no_duplicated_boxes=[bounding_boxes[0]]\n",
    "    for i in range(1, len(bounding_boxes)):\n",
    "        pre_box=bounding_boxes[i-1]\n",
    "        curr_box = bounding_boxes[i]\n",
    "        if curr_box[0] >= pre_box[0] and curr_box[1] <= pre_box[1] and curr_box[2] >= pre_box[2] and curr_box[3]<= pre_box[3]:\n",
    "            continue\n",
    "        else:\n",
    "            no_duplicated_boxes.append(curr_box)\n",
    "        print(pre_box,\" --- \" ,curr_box)\n",
    "    return no_duplicated_boxes\n",
    "\n",
    "\n",
    "def get_bounded_image(img,bounding_boxes):\n",
    "    conte = np.zeros(img.shape)\n",
    "    for box in bounding_boxes:\n",
    "        [Xmin, Xmax, Ymin, Ymax] = box\n",
    "        rr, cc = rectangle(start = (Ymin,Xmin), end = (Ymax,Xmax), shape=img.shape)\n",
    "        rr = rr.astype(np.int)\n",
    "        cc= cc.astype(np.int)\n",
    "        conte[rr, cc] = 1 #set color white\n",
    "    img2 = np.where(conte==1, img, 0)\n",
    "    return img2\n",
    "def draw_bounding_boxes(img,bounding_boxes):\n",
    "    conte = np.zeros(img.shape)\n",
    "    for box in bounding_boxes:\n",
    "        [Xmin, Xmax, Ymin, Ymax] = box\n",
    "        rr, cc = rectangle(start = (Ymin,Xmin), end = (Ymax,Xmax), shape=img.shape)\n",
    "        rr = rr.astype(np.int)\n",
    "        cc= cc.astype(np.int)\n",
    "        conte[rr, cc] = 1 #set color white\n",
    "    img2 = np.where(conte==1, img, 0)\n",
    "    show_images([conte,img2], ['bounding_boxes','original segmented'])\n"
   ]
  },
  {
   "cell_type": "code",
   "execution_count": null,
   "metadata": {},
   "outputs": [],
   "source": []
  },
  {
   "cell_type": "code",
   "execution_count": 15,
   "metadata": {},
   "outputs": [],
   "source": [
    "# Features DataBase"
   ]
  },
  {
   "cell_type": "code",
   "execution_count": 16,
   "metadata": {},
   "outputs": [
    {
     "name": "stdout",
     "output_type": "stream",
     "text": [
      "images/Notes/Quarter-Note.png\n",
      "28 28\n",
      "\n",
      "images/Notes/Half-Note.png\n",
      "11 11\n",
      "\n",
      "images/Notes/Whole-Note.png\n",
      "15 15\n",
      "\n",
      "images/Notes/Flat-Note.jpg\n",
      "33 33\n",
      "\n",
      "images/Notes/Double-Flat-Note.png\n",
      "24 24\n",
      "\n",
      "images/Notes/Sharp-Note.png\n",
      "57 57\n",
      "\n",
      "images/Notes/Double-Sharp-Note.png\n",
      "66 66\n",
      "\n",
      "images/Notes/Natural-Note.png\n",
      "19 19\n",
      "\n"
     ]
    }
   ],
   "source": [
    "Symbol_Locations = ['images/Notes/Quarter-Note.png','images/Notes/Half-Note.png','images/Notes/Whole-Note.png','images/Notes/Flat-Note.jpg','images/Notes/Double-Flat-Note.png','images/Notes/Sharp-Note.png','images/Notes/Double-Sharp-Note.png','images/Notes/Natural-Note.png']\n",
    "\n",
    "sift = cv2.SIFT_create()\n",
    "DataBase = []\n",
    "\n",
    "for Location in Symbol_Locations:\n",
    "    binary_image = read_Image(Location)\n",
    "    [ keypoints , descriptors ] = sift.detectAndCompute(binary_image,None)\n",
    "    DataBase.append([ keypoints  , descriptors ])\n",
    "    print(Location)\n",
    "    print(len(keypoints),len(descriptors))\n",
    "    print()\n",
    "    "
   ]
  },
  {
   "cell_type": "code",
   "execution_count": null,
   "metadata": {},
   "outputs": [],
   "source": []
  },
  {
   "cell_type": "code",
   "execution_count": 8,
   "metadata": {},
   "outputs": [
    {
     "name": "stdout",
     "output_type": "stream",
     "text": [
      "[[255. 255. 255. ... 255. 255. 255.]\n",
      " [255. 255. 255. ... 255. 255. 255.]\n",
      " [255. 255. 255. ... 255. 255. 255.]\n",
      " ...\n",
      " [255. 255. 255. ... 255. 255. 255.]\n",
      " [255. 255. 255. ... 255. 255. 255.]\n",
      " [255. 255. 255. ... 255. 255. 255.]]\n"
     ]
    },
    {
     "data": {
      "image/png": "[encoded data removed]",
      "text/plain": [
       "<Figure size 432x288 with 1 Axes>"
      ]
     },
     "metadata": {
      "needs_background": "light"
     },
     "output_type": "display_data"
    }
   ],
   "source": [
    "# images_paths = ['images/music1.JPG', 'images/32_sheet_001.jpg','images/8th_Sheet1.jpeg']\n",
    "images_paths = [ f\"test-cases/0{i+1}.PNG\" for i in range(9)]\n",
    "\n",
    "original_image = io.imread(images_paths[5])\n",
    "gray_image = rgb2gray(original_image)\n",
    "binary_image = binarize(gray_image)\n",
    "print(binary_image)\n",
    "inverted_image = 255 - binary_image\n",
    "show_images([binary_image],['original'])"
   ]
  },
  {
   "cell_type": "code",
   "execution_count": 9,
   "metadata": {},
   "outputs": [
    {
     "data": {
      "image/png": "[encoded data removed]",
      "text/plain": [
       "<Figure size 432x288 with 1 Axes>"
      ]
     },
     "metadata": {
      "needs_background": "light"
     },
     "output_type": "display_data"
    },
    {
     "name": "stdout",
     "output_type": "stream",
     "text": [
      "[[255. 255. 255. ... 255. 255. 255.]\n",
      " [255. 255. 255. ... 255. 255. 255.]\n",
      " [255. 255. 255. ... 255. 255. 255.]\n",
      " ...\n",
      " [255. 255. 255. ... 255. 255. 255.]\n",
      " [255. 255. 255. ... 255. 255. 255.]\n",
      " [255. 255. 255. ... 255. 255. 255.]]\n",
      "(349, 1129)\n"
     ]
    },
    {
     "data": {
      "image/png": "[encoded data removed]",
      "text/plain": [
       "<Figure size 432x288 with 1 Axes>"
      ]
     },
     "metadata": {
      "needs_background": "light"
     },
     "output_type": "display_data"
    }
   ],
   "source": [
    "# binary_image = binary_image/255\n",
    "\n",
    "image = binary_image\n",
    "\n",
    "show_images([image], ['im'])\n",
    "print(image)\n",
    "row_sums=np.zeros(image.shape[0])\n",
    "for row in range(image.shape[0]):\n",
    "    row_sums[row] = np.sum(image[row,:])\n",
    "#     print(row_sums[row])\n",
    "# for s in row_sums:\n",
    "#     print(row)\n",
    "indices = [i for  i in range(image.shape[0])]\n",
    "plt.scatter(indices, row_sums, marker='x')\n",
    "print(image.shape)\n",
    "# print(\"max: \",np.max(row_sums))\n",
    "# for i, s in enumerate(row_sums):\n",
    "#     print(s)"
   ]
  },
  {
   "cell_type": "code",
   "execution_count": 12,
   "metadata": {},
   "outputs": [
    {
     "ename": "FileNotFoundError",
     "evalue": "No such file: '/home/ahmed/Desktop/Work/GitRepos/music-notes-reader/test-cases/06.png'",
     "output_type": "error",
     "traceback": [
      "\u001b[0;31m---------------------------------------------------------------------------\u001b[0m",
      "\u001b[0;31mFileNotFoundError\u001b[0m                         Traceback (most recent call last)",
      "\u001b[0;32m<ipython-input-12-234221040eeb>\u001b[0m in \u001b[0;36m<module>\u001b[0;34m\u001b[0m\n\u001b[1;32m      3\u001b[0m \u001b[0mimages_paths\u001b[0m \u001b[0;34m=\u001b[0m \u001b[0;34m[\u001b[0m \u001b[0;34mf\"test-cases/0{i+1}.png\"\u001b[0m \u001b[0;32mfor\u001b[0m \u001b[0mi\u001b[0m \u001b[0;32min\u001b[0m \u001b[0mrange\u001b[0m\u001b[0;34m(\u001b[0m\u001b[0;36m9\u001b[0m\u001b[0;34m)\u001b[0m\u001b[0;34m]\u001b[0m\u001b[0;34m\u001b[0m\u001b[0;34m\u001b[0m\u001b[0m\n\u001b[1;32m      4\u001b[0m \u001b[0;34m\u001b[0m\u001b[0m\n\u001b[0;32m----> 5\u001b[0;31m \u001b[0moriginal_image\u001b[0m \u001b[0;34m=\u001b[0m \u001b[0mio\u001b[0m\u001b[0;34m.\u001b[0m\u001b[0mimread\u001b[0m\u001b[0;34m(\u001b[0m\u001b[0mimages_paths\u001b[0m\u001b[0;34m[\u001b[0m\u001b[0;36m5\u001b[0m\u001b[0;34m]\u001b[0m\u001b[0;34m)\u001b[0m\u001b[0;34m\u001b[0m\u001b[0;34m\u001b[0m\u001b[0m\n\u001b[0m\u001b[1;32m      6\u001b[0m \u001b[0mgray_image\u001b[0m \u001b[0;34m=\u001b[0m \u001b[0mrgb2gray\u001b[0m\u001b[0;34m(\u001b[0m\u001b[0moriginal_image\u001b[0m\u001b[0;34m)\u001b[0m\u001b[0;34m\u001b[0m\u001b[0;34m\u001b[0m\u001b[0m\n\u001b[1;32m      7\u001b[0m \u001b[0mshow_images\u001b[0m\u001b[0;34m(\u001b[0m\u001b[0;34m[\u001b[0m\u001b[0mgray_image\u001b[0m\u001b[0;34m]\u001b[0m\u001b[0;34m,\u001b[0m \u001b[0;34m[\u001b[0m\u001b[0;34m'gray'\u001b[0m\u001b[0;34m]\u001b[0m\u001b[0;34m)\u001b[0m\u001b[0;34m\u001b[0m\u001b[0;34m\u001b[0m\u001b[0m\n",
      "\u001b[0;32m~/anaconda3/lib/python3.8/site-packages/skimage/io/_io.py\u001b[0m in \u001b[0;36mimread\u001b[0;34m(fname, as_gray, plugin, **plugin_args)\u001b[0m\n\u001b[1;32m     46\u001b[0m \u001b[0;34m\u001b[0m\u001b[0m\n\u001b[1;32m     47\u001b[0m     \u001b[0;32mwith\u001b[0m \u001b[0mfile_or_url_context\u001b[0m\u001b[0;34m(\u001b[0m\u001b[0mfname\u001b[0m\u001b[0;34m)\u001b[0m \u001b[0;32mas\u001b[0m \u001b[0mfname\u001b[0m\u001b[0;34m:\u001b[0m\u001b[0;34m\u001b[0m\u001b[0;34m\u001b[0m\u001b[0m\n\u001b[0;32m---> 48\u001b[0;31m         \u001b[0mimg\u001b[0m \u001b[0;34m=\u001b[0m \u001b[0mcall_plugin\u001b[0m\u001b[0;34m(\u001b[0m\u001b[0;34m'imread'\u001b[0m\u001b[0;34m,\u001b[0m \u001b[0mfname\u001b[0m\u001b[0;34m,\u001b[0m \u001b[0mplugin\u001b[0m\u001b[0;34m=\u001b[0m\u001b[0mplugin\u001b[0m\u001b[0;34m,\u001b[0m \u001b[0;34m**\u001b[0m\u001b[0mplugin_args\u001b[0m\u001b[0;34m)\u001b[0m\u001b[0;34m\u001b[0m\u001b[0;34m\u001b[0m\u001b[0m\n\u001b[0m\u001b[1;32m     49\u001b[0m \u001b[0;34m\u001b[0m\u001b[0m\n\u001b[1;32m     50\u001b[0m     \u001b[0;32mif\u001b[0m \u001b[0;32mnot\u001b[0m \u001b[0mhasattr\u001b[0m\u001b[0;34m(\u001b[0m\u001b[0mimg\u001b[0m\u001b[0;34m,\u001b[0m \u001b[0;34m'ndim'\u001b[0m\u001b[0;34m)\u001b[0m\u001b[0;34m:\u001b[0m\u001b[0;34m\u001b[0m\u001b[0;34m\u001b[0m\u001b[0m\n",
      "\u001b[0;32m~/anaconda3/lib/python3.8/site-packages/skimage/io/manage_plugins.py\u001b[0m in \u001b[0;36mcall_plugin\u001b[0;34m(kind, *args, **kwargs)\u001b[0m\n\u001b[1;32m    208\u001b[0m                                (plugin, kind))\n\u001b[1;32m    209\u001b[0m \u001b[0;34m\u001b[0m\u001b[0m\n\u001b[0;32m--> 210\u001b[0;31m     \u001b[0;32mreturn\u001b[0m \u001b[0mfunc\u001b[0m\u001b[0;34m(\u001b[0m\u001b[0;34m*\u001b[0m\u001b[0margs\u001b[0m\u001b[0;34m,\u001b[0m \u001b[0;34m**\u001b[0m\u001b[0mkwargs\u001b[0m\u001b[0;34m)\u001b[0m\u001b[0;34m\u001b[0m\u001b[0;34m\u001b[0m\u001b[0m\n\u001b[0m\u001b[1;32m    211\u001b[0m \u001b[0;34m\u001b[0m\u001b[0m\n\u001b[1;32m    212\u001b[0m \u001b[0;34m\u001b[0m\u001b[0m\n",
      "\u001b[0;32m~/anaconda3/lib/python3.8/site-packages/skimage/io/_plugins/imageio_plugin.py\u001b[0m in \u001b[0;36mimread\u001b[0;34m(*args, **kwargs)\u001b[0m\n\u001b[1;32m      8\u001b[0m \u001b[0;34m@\u001b[0m\u001b[0mwraps\u001b[0m\u001b[0;34m(\u001b[0m\u001b[0mimageio_imread\u001b[0m\u001b[0;34m)\u001b[0m\u001b[0;34m\u001b[0m\u001b[0;34m\u001b[0m\u001b[0m\n\u001b[1;32m      9\u001b[0m \u001b[0;32mdef\u001b[0m \u001b[0mimread\u001b[0m\u001b[0;34m(\u001b[0m\u001b[0;34m*\u001b[0m\u001b[0margs\u001b[0m\u001b[0;34m,\u001b[0m \u001b[0;34m**\u001b[0m\u001b[0mkwargs\u001b[0m\u001b[0;34m)\u001b[0m\u001b[0;34m:\u001b[0m\u001b[0;34m\u001b[0m\u001b[0;34m\u001b[0m\u001b[0m\n\u001b[0;32m---> 10\u001b[0;31m     \u001b[0;32mreturn\u001b[0m \u001b[0mnp\u001b[0m\u001b[0;34m.\u001b[0m\u001b[0masarray\u001b[0m\u001b[0;34m(\u001b[0m\u001b[0mimageio_imread\u001b[0m\u001b[0;34m(\u001b[0m\u001b[0;34m*\u001b[0m\u001b[0margs\u001b[0m\u001b[0;34m,\u001b[0m \u001b[0;34m**\u001b[0m\u001b[0mkwargs\u001b[0m\u001b[0;34m)\u001b[0m\u001b[0;34m)\u001b[0m\u001b[0;34m\u001b[0m\u001b[0;34m\u001b[0m\u001b[0m\n\u001b[0m",
      "\u001b[0;32m~/anaconda3/lib/python3.8/site-packages/imageio/core/functions.py\u001b[0m in \u001b[0;36mimread\u001b[0;34m(uri, format, **kwargs)\u001b[0m\n\u001b[1;32m    263\u001b[0m \u001b[0;34m\u001b[0m\u001b[0m\n\u001b[1;32m    264\u001b[0m     \u001b[0;31m# Get reader and read first\u001b[0m\u001b[0;34m\u001b[0m\u001b[0;34m\u001b[0m\u001b[0;34m\u001b[0m\u001b[0m\n\u001b[0;32m--> 265\u001b[0;31m     \u001b[0mreader\u001b[0m \u001b[0;34m=\u001b[0m \u001b[0mread\u001b[0m\u001b[0;34m(\u001b[0m\u001b[0muri\u001b[0m\u001b[0;34m,\u001b[0m \u001b[0mformat\u001b[0m\u001b[0;34m,\u001b[0m \u001b[0;34m\"i\"\u001b[0m\u001b[0;34m,\u001b[0m \u001b[0;34m**\u001b[0m\u001b[0mkwargs\u001b[0m\u001b[0;34m)\u001b[0m\u001b[0;34m\u001b[0m\u001b[0;34m\u001b[0m\u001b[0m\n\u001b[0m\u001b[1;32m    266\u001b[0m     \u001b[0;32mwith\u001b[0m \u001b[0mreader\u001b[0m\u001b[0;34m:\u001b[0m\u001b[0;34m\u001b[0m\u001b[0;34m\u001b[0m\u001b[0m\n\u001b[1;32m    267\u001b[0m         \u001b[0;32mreturn\u001b[0m \u001b[0mreader\u001b[0m\u001b[0;34m.\u001b[0m\u001b[0mget_data\u001b[0m\u001b[0;34m(\u001b[0m\u001b[0;36m0\u001b[0m\u001b[0;34m)\u001b[0m\u001b[0;34m\u001b[0m\u001b[0;34m\u001b[0m\u001b[0m\n",
      "\u001b[0;32m~/anaconda3/lib/python3.8/site-packages/imageio/core/functions.py\u001b[0m in \u001b[0;36mget_reader\u001b[0;34m(uri, format, mode, **kwargs)\u001b[0m\n\u001b[1;32m    170\u001b[0m \u001b[0;34m\u001b[0m\u001b[0m\n\u001b[1;32m    171\u001b[0m     \u001b[0;31m# Create request object\u001b[0m\u001b[0;34m\u001b[0m\u001b[0;34m\u001b[0m\u001b[0;34m\u001b[0m\u001b[0m\n\u001b[0;32m--> 172\u001b[0;31m     \u001b[0mrequest\u001b[0m \u001b[0;34m=\u001b[0m \u001b[0mRequest\u001b[0m\u001b[0;34m(\u001b[0m\u001b[0muri\u001b[0m\u001b[0;34m,\u001b[0m \u001b[0;34m\"r\"\u001b[0m \u001b[0;34m+\u001b[0m \u001b[0mmode\u001b[0m\u001b[0;34m,\u001b[0m \u001b[0;34m**\u001b[0m\u001b[0mkwargs\u001b[0m\u001b[0;34m)\u001b[0m\u001b[0;34m\u001b[0m\u001b[0;34m\u001b[0m\u001b[0m\n\u001b[0m\u001b[1;32m    173\u001b[0m \u001b[0;34m\u001b[0m\u001b[0m\n\u001b[1;32m    174\u001b[0m     \u001b[0;31m# Get format\u001b[0m\u001b[0;34m\u001b[0m\u001b[0;34m\u001b[0m\u001b[0;34m\u001b[0m\u001b[0m\n",
      "\u001b[0;32m~/anaconda3/lib/python3.8/site-packages/imageio/core/request.py\u001b[0m in \u001b[0;36m__init__\u001b[0;34m(self, uri, mode, **kwargs)\u001b[0m\n\u001b[1;32m    122\u001b[0m \u001b[0;34m\u001b[0m\u001b[0m\n\u001b[1;32m    123\u001b[0m         \u001b[0;31m# Parse what was given\u001b[0m\u001b[0;34m\u001b[0m\u001b[0;34m\u001b[0m\u001b[0;34m\u001b[0m\u001b[0m\n\u001b[0;32m--> 124\u001b[0;31m         \u001b[0mself\u001b[0m\u001b[0;34m.\u001b[0m\u001b[0m_parse_uri\u001b[0m\u001b[0;34m(\u001b[0m\u001b[0muri\u001b[0m\u001b[0;34m)\u001b[0m\u001b[0;34m\u001b[0m\u001b[0;34m\u001b[0m\u001b[0m\n\u001b[0m\u001b[1;32m    125\u001b[0m \u001b[0;34m\u001b[0m\u001b[0m\n\u001b[1;32m    126\u001b[0m         \u001b[0;31m# Set extension\u001b[0m\u001b[0;34m\u001b[0m\u001b[0;34m\u001b[0m\u001b[0;34m\u001b[0m\u001b[0m\n",
      "\u001b[0;32m~/anaconda3/lib/python3.8/site-packages/imageio/core/request.py\u001b[0m in \u001b[0;36m_parse_uri\u001b[0;34m(self, uri)\u001b[0m\n\u001b[1;32m    258\u001b[0m                 \u001b[0;31m# Reading: check that the file exists (but is allowed a dir)\u001b[0m\u001b[0;34m\u001b[0m\u001b[0;34m\u001b[0m\u001b[0;34m\u001b[0m\u001b[0m\n\u001b[1;32m    259\u001b[0m                 \u001b[0;32mif\u001b[0m \u001b[0;32mnot\u001b[0m \u001b[0mos\u001b[0m\u001b[0;34m.\u001b[0m\u001b[0mpath\u001b[0m\u001b[0;34m.\u001b[0m\u001b[0mexists\u001b[0m\u001b[0;34m(\u001b[0m\u001b[0mfn\u001b[0m\u001b[0;34m)\u001b[0m\u001b[0;34m:\u001b[0m\u001b[0;34m\u001b[0m\u001b[0;34m\u001b[0m\u001b[0m\n\u001b[0;32m--> 260\u001b[0;31m                     \u001b[0;32mraise\u001b[0m \u001b[0mFileNotFoundError\u001b[0m\u001b[0;34m(\u001b[0m\u001b[0;34m\"No such file: '%s'\"\u001b[0m \u001b[0;34m%\u001b[0m \u001b[0mfn\u001b[0m\u001b[0;34m)\u001b[0m\u001b[0;34m\u001b[0m\u001b[0;34m\u001b[0m\u001b[0m\n\u001b[0m\u001b[1;32m    261\u001b[0m             \u001b[0;32melse\u001b[0m\u001b[0;34m:\u001b[0m\u001b[0;34m\u001b[0m\u001b[0;34m\u001b[0m\u001b[0m\n\u001b[1;32m    262\u001b[0m                 \u001b[0;31m# Writing: check that the directory to write to does exist\u001b[0m\u001b[0;34m\u001b[0m\u001b[0;34m\u001b[0m\u001b[0;34m\u001b[0m\u001b[0m\n",
      "\u001b[0;31mFileNotFoundError\u001b[0m: No such file: '/home/ahmed/Desktop/Work/GitRepos/music-notes-reader/test-cases/06.png'"
     ]
    }
   ],
   "source": [
    "# images_paths = ['images/music1.JPG', 'images/32_sheet_001.jpg','images/8th_Sheet1.jpeg']\n",
    "# images_paths = ['test-cases/01.png','test-cases/02.png','images/music1.JPG', 'images/32_sheet_001.jpg','images/8th_Sheet1.jpeg']\n",
    "images_paths = [ f\"test-cases/0{i+1}.png\" for i in range(9)]\n",
    "\n",
    "original_image = io.imread(images_paths[5])\n",
    "gray_image = rgb2gray(original_image)\n",
    "show_images([gray_image], ['gray'])\n",
    "binary_image = binarize(gray_image)\n",
    "inverted_image = 255 - binary_image\n",
    "\n",
    "inverted_image[:, inverted_image.shape[1]-1]=0\n",
    "rows=1\n",
    "cols=image.shape[1] // 4\n",
    "selem = rect(rows,cols)\n",
    "erroded_img = binary_erosion(inverted_image,selem=selem)\n",
    "\n",
    "rows=1\n",
    "cols=image.shape[1] // 4\n",
    "selem = rect(rows,cols)\n",
    "erroded_img2 = binary_dilation(erroded_img, selem=selem)\n",
    "# inverted_image2 = inverted_image - erroded_img2\n",
    "\n",
    "show_images([erroded_img2], ['erroded2'])\n",
    "print(erroded_img)\n",
    "rows = image.shape[0] // 8\n",
    "cols = 1\n",
    "selem = rect(rows,cols)\n",
    "closed_img  = binary_closing(erroded_img2, selem = selem)\n",
    "\n",
    "\n",
    "# closed_img  = binary_closing(closed_img, selem = selem)\n",
    "show_images([inverted_image,erroded_img2,closed_img],['original image','erroded-dilated','closed'])\n",
    "\n",
    "staffs_area = np.sum(erroded_img2)\n",
    "print(staffs_area)"
   ]
  },
  {
   "cell_type": "code",
   "execution_count": 10,
   "metadata": {},
   "outputs": [
    {
     "ename": "NameError",
     "evalue": "name 'closed_img' is not defined",
     "output_type": "error",
     "traceback": [
      "\u001b[0;31m---------------------------------------------------------------------------\u001b[0m",
      "\u001b[0;31mNameError\u001b[0m                                 Traceback (most recent call last)",
      "\u001b[0;32m<ipython-input-10-c8ed1df1a7c0>\u001b[0m in \u001b[0;36m<module>\u001b[0;34m\u001b[0m\n\u001b[1;32m      1\u001b[0m \u001b[0;31m#  calculate the trace bounding boxes\u001b[0m\u001b[0;34m\u001b[0m\u001b[0;34m\u001b[0m\u001b[0;34m\u001b[0m\u001b[0m\n\u001b[0;32m----> 2\u001b[0;31m \u001b[0mtrace_bounding_boxes\u001b[0m \u001b[0;34m=\u001b[0m \u001b[0mget_bounding_boxes\u001b[0m\u001b[0;34m(\u001b[0m\u001b[0mclosed_img\u001b[0m\u001b[0;34m,\u001b[0m\u001b[0;34m(\u001b[0m\u001b[0;36m5\u001b[0m\u001b[0;34m,\u001b[0m\u001b[0;36m4000\u001b[0m\u001b[0;34m)\u001b[0m\u001b[0;34m)\u001b[0m\u001b[0;34m\u001b[0m\u001b[0;34m\u001b[0m\u001b[0m\n\u001b[0m\u001b[1;32m      3\u001b[0m \u001b[0;31m# print(trace_bounding_boxes)\u001b[0m\u001b[0;34m\u001b[0m\u001b[0;34m\u001b[0m\u001b[0;34m\u001b[0m\u001b[0m\n\u001b[1;32m      4\u001b[0m \u001b[0mbigger_trace_bounding_boxes\u001b[0m \u001b[0;34m=\u001b[0m \u001b[0;34m[\u001b[0m\u001b[0;34m]\u001b[0m\u001b[0;34m\u001b[0m\u001b[0;34m\u001b[0m\u001b[0m\n\u001b[1;32m      5\u001b[0m \u001b[0mtrace_images_array\u001b[0m \u001b[0;34m=\u001b[0m \u001b[0;34m[\u001b[0m\u001b[0;34m]\u001b[0m\u001b[0;34m\u001b[0m\u001b[0;34m\u001b[0m\u001b[0m\n",
      "\u001b[0;31mNameError\u001b[0m: name 'closed_img' is not defined"
     ]
    }
   ],
   "source": [
    "#  calculate the trace bounding boxes\n",
    "trace_bounding_boxes = get_bounding_boxes(closed_img,(5,4000))\n",
    "# print(trace_bounding_boxes)\n",
    "bigger_trace_bounding_boxes = []\n",
    "trace_images_array = []\n",
    "division_height=0\n",
    "trace_height = 0\n",
    "for box in trace_bounding_boxes:\n",
    "    trace_height = box[3]-box[2]\n",
    "    trace_width = box[1] - box[0]\n",
    "    division_height = (trace_height)/4\n",
    "    division_height = int(np.ceil(division_height)) \n",
    "#     division_height *=2\n",
    "    [Xmin, Xmax, Ymin, Ymax] = [int(round(x)) for x in box]\n",
    "    Ymin -= 2 * division_height\n",
    "    Ymin = Ymin if Ymin >0 else 0\n",
    "    Ymax += 2 * division_height\n",
    "    bigger_trace_bounding_boxes.append([Xmin, Xmax, Ymin, Ymax])\n",
    "    \n",
    "    trace_images_array.append(gray_image[Ymin:Ymax,Xmin:Xmax])\n",
    "staff_length = bigger_trace_bounding_boxes\n",
    "\n",
    "# print(staffs_area, trace_width)\n",
    "\n",
    "# print(staffs_area // (len(bigger_trace_bounding_boxes) * 5 *trace_width ))\n",
    "\n",
    "# print(bigger_trace_bounding_boxes)\n",
    "# print(inverted_image.shape)"
   ]
  },
  {
   "cell_type": "code",
   "execution_count": null,
   "metadata": {},
   "outputs": [],
   "source": []
  },
  {
   "cell_type": "code",
   "execution_count": 70,
   "metadata": {},
   "outputs": [
    {
     "name": "stdout",
     "output_type": "stream",
     "text": [
      "[[0. 0. 0. ... 0. 0. 0.]\n",
      " [0. 0. 0. ... 0. 0. 0.]\n",
      " [0. 0. 0. ... 0. 0. 0.]\n",
      " ...\n",
      " [0. 0. 0. ... 0. 0. 0.]\n",
      " [0. 0. 0. ... 0. 0. 0.]\n",
      " [0. 0. 0. ... 0. 0. 0.]]\n"
     ]
    }
   ],
   "source": [
    "print(inverted_image)"
   ]
  },
  {
   "cell_type": "code",
   "execution_count": 71,
   "metadata": {},
   "outputs": [
    {
     "data": {
      "image/png": "[encoded data removed]",
      "text/plain": [
       "<Figure size 432x288 with 1 Axes>"
      ]
     },
     "metadata": {
      "needs_background": "light"
     },
     "output_type": "display_data"
    },
    {
     "data": {
      "image/png": "[encoded data removed]",
      "text/plain": [
       "<Figure size 432x288 with 1 Axes>"
      ]
     },
     "metadata": {
      "needs_background": "light"
     },
     "output_type": "display_data"
    },
    {
     "data": {
      "image/png": "[encoded data removed]",
      "text/plain": [
       "<Figure size 432x288 with 1 Axes>"
      ]
     },
     "metadata": {
      "needs_background": "light"
     },
     "output_type": "display_data"
    },
    {
     "data": {
      "image/png": "[encoded data removed]",
      "text/plain": [
       "<Figure size 432x288 with 1 Axes>"
      ]
     },
     "metadata": {
      "needs_background": "light"
     },
     "output_type": "display_data"
    },
    {
     "name": "stdout",
     "output_type": "stream",
     "text": [
      "[55, 113, 130, 237]  ---  [88, 119, 38, 101]\n",
      "[88, 119, 38, 101]  ---  [109, 137, 176, 233]\n",
      "[109, 137, 176, 233]  ---  [240, 326, 134, 307]\n",
      "[299, 299, 300, 300]  ---  [302, 302, 297, 297]\n",
      "[302, 302, 297, 297]  ---  [303, 303, 296, 296]\n",
      "[303, 303, 296, 296]  ---  [447, 533, 134, 307]\n",
      "[447, 533, 134, 307]  ---  [530, 545, 257, 271]\n",
      "[530, 545, 257, 271]  ---  [715, 801, 134, 307]\n",
      "[777, 777, 297, 297]  ---  [778, 778, 296, 296]\n",
      "[778, 778, 296, 296]  ---  [798, 813, 257, 271]\n",
      "[798, 813, 257, 271]  ---  [819, 835, 257, 271]\n",
      "[819, 835, 257, 271]  ---  [1019, 1025, 74, 239]\n",
      "[1019, 1025, 74, 239]  ---  [1037, 1057, 74, 239]\n",
      "[43, 148, 22, 312]\n"
     ]
    },
    {
     "data": {
      "image/png": "[encoded data removed]",
      "text/plain": [
       "<Figure size 432x288 with 1 Axes>"
      ]
     },
     "metadata": {
      "needs_background": "light"
     },
     "output_type": "display_data"
    },
    {
     "name": "stdout",
     "output_type": "stream",
     "text": [
      "[88, 119, 38, 101]\n"
     ]
    },
    {
     "data": {
      "image/png": "[encoded data removed]",
      "text/plain": [
       "<Figure size 432x288 with 1 Axes>"
      ]
     },
     "metadata": {
      "needs_background": "light"
     },
     "output_type": "display_data"
    },
    {
     "name": "stdout",
     "output_type": "stream",
     "text": [
      "[109, 137, 176, 233]\n"
     ]
    },
    {
     "data": {
      "image/png": "[encoded data removed]",
      "text/plain": [
       "<Figure size 432x288 with 1 Axes>"
      ]
     },
     "metadata": {
      "needs_background": "light"
     },
     "output_type": "display_data"
    },
    {
     "name": "stdout",
     "output_type": "stream",
     "text": [
      "[240, 326, 134, 307]\n"
     ]
    },
    {
     "data": {
      "image/png": "[encoded data removed]",
      "text/plain": [
       "<Figure size 432x288 with 1 Axes>"
      ]
     },
     "metadata": {
      "needs_background": "light"
     },
     "output_type": "display_data"
    },
    {
     "name": "stdout",
     "output_type": "stream",
     "text": [
      "[302, 302, 297, 297]\n"
     ]
    },
    {
     "data": {
      "image/png": "[encoded data removed]",
      "text/plain": [
       "<Figure size 432x288 with 1 Axes>"
      ]
     },
     "metadata": {
      "needs_background": "light"
     },
     "output_type": "display_data"
    },
    {
     "name": "stdout",
     "output_type": "stream",
     "text": [
      "[303, 303, 296, 296]\n"
     ]
    },
    {
     "data": {
      "image/png": "[encoded data removed]",
      "text/plain": [
       "<Figure size 432x288 with 1 Axes>"
      ]
     },
     "metadata": {
      "needs_background": "light"
     },
     "output_type": "display_data"
    },
    {
     "name": "stdout",
     "output_type": "stream",
     "text": [
      "[447, 533, 134, 307]\n"
     ]
    },
    {
     "data": {
      "image/png": "[encoded data removed]",
      "text/plain": [
       "<Figure size 432x288 with 1 Axes>"
      ]
     },
     "metadata": {
      "needs_background": "light"
     },
     "output_type": "display_data"
    },
    {
     "name": "stdout",
     "output_type": "stream",
     "text": [
      "[530, 545, 257, 271]\n"
     ]
    },
    {
     "data": {
      "image/png": "[encoded data removed]",
      "text/plain": [
       "<Figure size 432x288 with 1 Axes>"
      ]
     },
     "metadata": {
      "needs_background": "light"
     },
     "output_type": "display_data"
    },
    {
     "name": "stdout",
     "output_type": "stream",
     "text": [
      "[715, 801, 134, 307]\n"
     ]
    },
    {
     "data": {
      "image/png": "[encoded data removed]",
      "text/plain": [
       "<Figure size 432x288 with 1 Axes>"
      ]
     },
     "metadata": {
      "needs_background": "light"
     },
     "output_type": "display_data"
    },
    {
     "name": "stdout",
     "output_type": "stream",
     "text": [
      "[778, 778, 296, 296]\n"
     ]
    },
    {
     "data": {
      "image/png": "[encoded data removed]",
      "text/plain": [
       "<Figure size 432x288 with 1 Axes>"
      ]
     },
     "metadata": {
      "needs_background": "light"
     },
     "output_type": "display_data"
    },
    {
     "name": "stdout",
     "output_type": "stream",
     "text": [
      "[798, 813, 257, 271]\n"
     ]
    },
    {
     "data": {
      "image/png": "[encoded data removed]",
      "text/plain": [
       "<Figure size 432x288 with 1 Axes>"
      ]
     },
     "metadata": {
      "needs_background": "light"
     },
     "output_type": "display_data"
    },
    {
     "name": "stdout",
     "output_type": "stream",
     "text": [
      "[819, 835, 257, 271]\n"
     ]
    },
    {
     "data": {
      "image/png": "[encoded data removed]",
      "text/plain": [
       "<Figure size 432x288 with 1 Axes>"
      ]
     },
     "metadata": {
      "needs_background": "light"
     },
     "output_type": "display_data"
    },
    {
     "name": "stdout",
     "output_type": "stream",
     "text": [
      "[1019, 1025, 74, 239]\n"
     ]
    },
    {
     "data": {
      "image/png": "[encoded data removed]",
      "text/plain": [
       "<Figure size 432x288 with 1 Axes>"
      ]
     },
     "metadata": {
      "needs_background": "light"
     },
     "output_type": "display_data"
    },
    {
     "name": "stdout",
     "output_type": "stream",
     "text": [
      "[1037, 1057, 74, 239]\n"
     ]
    },
    {
     "data": {
      "image/png": "[encoded data removed]",
      "text/plain": [
       "<Figure size 432x288 with 1 Axes>"
      ]
     },
     "metadata": {
      "needs_background": "light"
     },
     "output_type": "display_data"
    }
   ],
   "source": [
    "# for each trace segment the individual characters\n",
    "staff_images = []\n",
    "gray_staff_images=[]\n",
    "sh = lambda x: print (\"shape is \",x.shape)\n",
    "line_height = 3\n",
    "for i, trace in enumerate(bigger_trace_bounding_boxes):\n",
    "    [Xmin, Xmax, Ymin, Ymax] = [x for x in trace]\n",
    "    show_images([original_image[Ymin:Ymax,Xmin:Xmax]], ['ori'])\n",
    "#     line_width, no_staf_1 = remove_horizontal_lines_old(original_image[Ymin:Ymax,Xmin:Xmax])\n",
    "    line_width, no_staf_1 = remove_horizontal_lines(original_image[Ymin:Ymax,Xmin:Xmax])\n",
    "    # close the no_staf_2\n",
    "#     no_staf_2 = binary_opening(no_staf_2, rect(2,2))\n",
    "    show_images([no_staf_1], ['no_staf_1'])\n",
    "\n",
    "    no_staf_1[no_staf_1 == 255] = True\n",
    "    no_staf_1[no_staf_1 == 0] = False\n",
    "    \n",
    "#     no_staf_2[no_staf_2 == 255] = True\n",
    "#     no_staf_2[no_staf_2 == 0] = False\n",
    "    org_inverted = inverted_image[Ymin:Ymax,Xmin:Xmax].astype(np.uint8)\n",
    "    \n",
    "    org_inverted[org_inverted==255] = True\n",
    "    org_inverted[org_inverted==0] = False    \n",
    "#     print(no_staf_1)\n",
    "    \n",
    "    #show_images([no_staf_1, no_staf_2], ['no_staf1','no_staf2'])\n",
    "#     no_staf = np.bitwise_or(no_staf_1, no_staf_2)\n",
    "    no_staf = no_staf_1\n",
    "    no_staf = np.bitwise_and(no_staf, org_inverted)\n",
    "#     open no_staff\n",
    "#     no_staf = binary_opening(no_staf, rect(2,2))\n",
    "#     no_staf = np.bitwise_and(no_staf, org_inverted)\n",
    "\n",
    "    \n",
    "    show_images([no_staf], ['no_staf'])    \n",
    "#     vertical_lines = binary_erosion(inverted_image[Ymin:Ymax,Xmin:Xmax], selem=rect(division_height*2,1))\n",
    "#     vertical_lines = binary_dilation(vertical_lines, selem=rect(division_height*2,1))\n",
    "    \n",
    "#     no_staf = np.bitwise_or(no_staf, vertical_lines)\n",
    "    \n",
    "#     show_images([no_staf], ['no_staf with vertical'])    \n",
    "    \n",
    "#     show_images([inverted_image[Ymin:Ymax,Xmin:Xmax]], ['img'])\n",
    "    no_staf_boxes = no_staf\n",
    "#     no_staf_boxes = binary_dilation(no_staf, selem=rect(4,4))\n",
    "    \n",
    "#     no_staf_boxes = binary_dilation(no_staf_boxes, selem=rect(20,1))\n",
    "#     no_staf_boxes = binary_dilation(no_staf_boxes, selem=rect(5,5))\n",
    "    \n",
    "    \n",
    "    show_images([no_staf_boxes], ['no staff boxes'])\n",
    "    char_boxes = get_bounding_boxes(no_staf_boxes, (0,200))\n",
    "    \n",
    "    j=0\n",
    "    chars = []\n",
    "    for box in char_boxes:\n",
    "        print(box)\n",
    "        [Xmin, Xmax, Ymin, Ymax] = [x for x in box]\n",
    "        # remove blank or noisy area that is less than a line of pixels\n",
    "        char = no_staf[Ymin:Ymax,Xmin:Xmax]\n",
    "        show_images([char],[f't{i+1}-b{j+1}'])\n",
    "#         if(np.sum(char)+5 > trace_height):\n",
    "        \n",
    "        chars.append(char)\n",
    "#         char[char==True] = 255\n",
    "#         char[char==False] = 0\n",
    "#         io.imsave(f'no_line_test/t{i+1}-b{j+1}.bmp', char)\n",
    "\n",
    "        j+=1\n",
    "    staff_images.append(chars)\n",
    "\n"
   ]
  },
  {
   "cell_type": "code",
   "execution_count": null,
   "metadata": {},
   "outputs": [],
   "source": [
    "for staff_chars in staff_images:\n",
    "    j=0\n",
    "    j+=1\n",
    "    for char in staff_chars:\n",
    "        i=0\n",
    "        i+=1\n",
    "        show_images([char],[f\"char {j}-{i}\"])\n",
    "        \n",
    "        \n",
    "        \n",
    "        "
   ]
  },
  {
   "cell_type": "raw",
   "metadata": {},
   "source": []
  },
  {
   "cell_type": "code",
   "execution_count": null,
   "metadata": {},
   "outputs": [],
   "source": [
    "\n",
    "from skimage import data\n",
    "from skimage.viewer import ImageViewer\n",
    "\n",
    "image = original_image\n",
    "viewer = ImageViewer(image)\n",
    "viewer.show()"
   ]
  },
  {
   "cell_type": "code",
   "execution_count": null,
   "metadata": {},
   "outputs": [],
   "source": [
    "import cv2\n",
    "def get_avg_contour_areas(contours):\n",
    "    # returns the areas of all contours as list\n",
    "    all_areas = []\n",
    "    for cnt in contours:\n",
    "        area = cv2.contourArea(cnt)\n",
    "        all_areas.append(area)\n",
    "    return  np.average(np.array(all_areas))\n",
    "\n",
    "\n",
    "image = cv2.imread('images/8th_Sheet1.jpeg')\n",
    "gray = cv2.cvtColor(image,cv2.COLOR_BGR2GRAY)\n",
    "thresh = cv2.threshold(gray, 0, 255, cv2.THRESH_BINARY_INV + cv2.THRESH_OTSU)[1]\n",
    "\n",
    "# Remove horizontal\n",
    "horizontal_kernel = cv2.getStructuringElement(cv2.MORPH_RECT, (40,1))\n",
    "\n",
    "# thresh = cv2.Canny(thresh, 30, 200) \n",
    "detected_lines = cv2.morphologyEx(thresh, cv2.MORPH_OPEN, horizontal_kernel, iterations=2)\n",
    "\n",
    "cnts = cv2.findContours(detected_lines, cv2.RETR_EXTERNAL, cv2.CHAIN_APPROX_NONE)\n",
    "\n",
    "cnts = cnts[0] if len(cnts) == 2 else cnts[1]\n",
    "# print(cnts)\n",
    "cont_areas = get_avg_contour_areas(cnts)\n",
    "print(\"avg\" , cont_areas)\n",
    "for c in cnts:\n",
    "    print(len(c))\n",
    "    cv2.drawContours(image, [c], -1, (255,255,255), 2)\n",
    "    print(cv2.boundingRect(c))\n",
    "    cv2.imshow('result', image)\n",
    "    cv2.waitKey()\n",
    "cv2.destroyAllWindows()\n",
    "\n",
    "# Repair image\n",
    "repair_kernel = cv2.getStructuringElement(cv2.MORPH_RECT, (1,6))\n",
    "print(\"repair\", repair_kernel)\n",
    "result = cv2.morphologyEx(255 - image, cv2.MORPH_CLOSE, repair_kernel, iterations=1)\n",
    "kernel = np.ones((1,15),np.uint8)\n",
    "# er = cv2.dilate(result,kernel,iterations = 1)\n",
    "\n",
    "\n",
    "showHist(result)\n",
    "cv2.imshow('thresh', thresh)\n",
    "cv2.imshow('detected_lines', detected_lines)\n",
    "cv2.imshow('image', image)\n",
    "# cv2.imshow('er', er)\n",
    "cv2.imshow('result', result)\n",
    "cv2.waitKey()\n",
    "cv2.destroyAllWindows()\n"
   ]
  },
  {
   "cell_type": "code",
   "execution_count": null,
   "metadata": {
    "scrolled": false
   },
   "outputs": [],
   "source": [
    "import cv2\n",
    "def get_avg_contour_areas(contours):\n",
    "    # returns the areas of all contours as list\n",
    "    all_areas = []\n",
    "    for cnt in contours:\n",
    "        area = cv2.contourArea(cnt)\n",
    "        all_areas.append(area)\n",
    "    return  np.average(np.array(all_areas))\n",
    "# images_paths = [ f\"test-cases/0{i+1}.png\" for i in range(9)]\n",
    "images_paths = ['test-cases/01.png','test-cases/02.png','images/music1.JPG', 'images/32_sheet_001.jpg','images/8th_Sheet1.jpeg']\n",
    "for image_path in images_paths:\n",
    "    image = cv2.imread(image_path)\n",
    "    gray = cv2.cvtColor(image,cv2.COLOR_BGR2GRAY)\n",
    "    thresh = cv2.threshold(gray, 0, 255, cv2.THRESH_BINARY_INV + cv2.THRESH_OTSU)[1]\n",
    "    width = gray.shape[1]//5\n",
    "    # Remove horizontal\n",
    "    horizontal_kernel = cv2.getStructuringElement(cv2.MORPH_RECT, (width,1))\n",
    "\n",
    "    # thresh = cv2.Canny(thresh, 30, 200) \n",
    "    detected_lines = cv2.morphologyEx(thresh, cv2.MORPH_OPEN, horizontal_kernel, iterations=2)\n",
    "\n",
    "    cnts = cv2.findContours(detected_lines, cv2.RETR_EXTERNAL, cv2.CHAIN_APPROX_NONE)\n",
    "\n",
    "    cnts = cnts[0] if len(cnts) == 2 else cnts[1]\n",
    "    # print(cnts)\n",
    "    cont_areas = get_avg_contour_areas(cnts)\n",
    "#     print(\"avg\" , cont_areas)\n",
    "    h_max = 1\n",
    "    for c in cnts:\n",
    "        X,Y,w,h = cv2.boundingRect(c)\n",
    "        if h > h_max:\n",
    "            h_max = h\n",
    "    for c in cnts:   \n",
    "#         print(h_max)\n",
    "        cv2.drawContours(gray, [c], -1, 255, h_max)\n",
    "        cv2.imshow('result', gray)\n",
    "        cv2.waitKey()\n",
    "    cv2.destroyAllWindows()\n",
    "\n",
    "\n",
    "    # Repair image\n",
    "    repair_kernel = cv2.getStructuringElement(cv2.MORPH_RECT, (1,h_max*3))\n",
    "#     print(\"repair\", repair_kernel)\n",
    "    result = cv2.morphologyEx(255 - gray, cv2.MORPH_CLOSE, repair_kernel, iterations=1)\n",
    "    result = cv2.threshold(result, 0, 255, cv2.THRESH_BINARY_INV + cv2.THRESH_OTSU)[1]\n",
    "    showHist(result)\n",
    "    cv2.imshow('thresh', thresh)\n",
    "    cv2.imshow('detected_lines', detected_lines)\n",
    "    cv2.imshow('image', image)\n",
    "    # cv2.imshow('er', er)\n",
    "    cv2.imshow('result', result)\n",
    "    cv2.waitKey()\n",
    "    cv2.destroyAllWindows()\n"
   ]
  },
  {
   "cell_type": "code",
   "execution_count": null,
   "metadata": {},
   "outputs": [],
   "source": [
    "import cv2\n",
    "def get_avg_contour_areas(contours):\n",
    "    # returns the areas of all contours as list\n",
    "    all_areas = []\n",
    "    for cnt in contours:\n",
    "        area = cv2.contourArea(cnt)\n",
    "        all_areas.append(area)\n",
    "    return  np.average(np.array(all_areas))\n",
    "\n",
    "\n",
    "image = cv2.imread('images/8th_Sheet1.jpeg')  \n",
    "gray = cv2.cvtColor(image,cv2.COLOR_BGR2GRAY)\n",
    "thresh = cv2.threshold(gray, 0, 255, cv2.THRESH_BINARY_INV + cv2.THRESH_OTSU)[1]\n",
    "cv2.destroyAllWindows()\n",
    "showHist(thresh)\n",
    "\n"
   ]
  },
  {
   "cell_type": "code",
   "execution_count": null,
   "metadata": {},
   "outputs": [],
   "source": [
    "m = [[0, 39, 10, 119], [18, 26, 17, 38], [814, 837, 20, 85], [409, 413, 32, 92], [721, 726, 32, 92], [1034, 1039, 32, 92], [59, 83, 33, 58], [118, 140, 36, 101], [188, 211, 36, 101], [258, 282, 36, 101], [431, 454, 36, 101], [501, 524, 36, 101], [571, 594, 36, 101], [744, 767, 36, 101], [66, 72, 42, 49], [954, 978, 48, 109], [877, 913, 53, 118], [5, 19, 54, 88], [59, 83, 65, 90], [17, 25, 70, 86], [28, 33, 71, 86], [66, 71, 75, 82], [1053, 1081, 85, 101], [577, 587, 87, 99], [1063, 1071, 87, 99], [265, 274, 88, 98]]\n",
    "def x_min(shape):\n",
    "    return shape[0]\n",
    "m = sorted(m, key=x_min)\n",
    "print(m)"
   ]
  },
  {
   "cell_type": "code",
   "execution_count": null,
   "metadata": {},
   "outputs": [],
   "source": []
  },
  {
   "cell_type": "code",
   "execution_count": null,
   "metadata": {},
   "outputs": [],
   "source": []
  }
 ],
 "metadata": {
  "kernelspec": {
   "display_name": "Python 3",
   "language": "python",
   "name": "python3"
  },
  "language_info": {
   "codemirror_mode": {
    "name": "ipython",
    "version": 3
   },
   "file_extension": ".py",
   "mimetype": "text/x-python",
   "name": "python",
   "nbconvert_exporter": "python",
   "pygments_lexer": "ipython3",
   "version": "3.8.3"
  }
 },
 "nbformat": 4,
 "nbformat_minor": 4
}
