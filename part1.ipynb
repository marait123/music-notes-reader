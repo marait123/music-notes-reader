{
 "cells": [
  {
   "cell_type": "code",
   "execution_count": 46,
   "metadata": {},
   "outputs": [],
   "source": [
    "from scipy.ndimage.morphology import binary_hit_or_miss\n",
    "from commonfunctions import *\n",
    "import numpy as np\n",
    "import os\n",
    "import skimage.io as io\n",
    "import matplotlib.pyplot as plt\n",
    "import skimage\n",
    "from skimage.color import rgb2gray\n",
    "from skimage.morphology import disk, square, rectangle as rect\n",
    "import scipy.stats\n",
    "from skimage import draw\n",
    "from skimage.morphology import(binary_erosion, \n",
    "                               binary_dilation,\n",
    "                               binary_closing,\n",
    "                               skeletonize,\n",
    "                               thin,\n",
    "                               opening\n",
    "                              )\n",
    "from skimage.measure import find_contours\n",
    "from skimage.filters import rank\n",
    "from skimage.draw import rectangle\n",
    "from skimage.filters import threshold_otsu, gaussian\n",
    "from skimage import feature\n"
   ]
  },
  {
   "cell_type": "code",
   "execution_count": 2,
   "metadata": {},
   "outputs": [
    {
     "name": "stdout",
     "output_type": "stream",
     "text": [
      "hi\n"
     ]
    }
   ],
   "source": [
    "import cv2\n",
    "if ' ':\n",
    "    print('hi')\n",
    "    \n",
    "def cv_show(image):\n",
    "    image=np.uint8(image)\n",
    "    cv2.imshow(\"image\", image)\n",
    "    cv2.waitKey(0)\n",
    "    cv2.destroyAllWindows()"
   ]
  },
  {
   "cell_type": "code",
   "execution_count": 3,
   "metadata": {},
   "outputs": [],
   "source": [
    "# omar do those\n",
    "def which_number(num_image):\n",
    "    \"\"\"\n",
    "    returns: zero is image wasn't a number\n",
    "    or returns the number that it represents either\n",
    "    1, 2, 3, 4, ...., 9\n",
    "    \n",
    "    arguments:\n",
    "    num_image: this is an image of small size\n",
    "    \"\"\"\n",
    "    pass\n",
    "\n",
    "def which_symbol_division(sym_image):\n",
    "    \"\"\"\n",
    "    returns which duration eg, if a/4 return 4, if a/8 return 8, if a/16, a/32 \n",
    "    if not any one return 0\n",
    "    \n",
    "    arguments:\n",
    "    sym_image: this is an image of small size\n",
    "    \"\"\"\n",
    "    pass\n",
    "\n"
   ]
  },
  {
   "cell_type": "code",
   "execution_count": 4,
   "metadata": {},
   "outputs": [],
   "source": [
    "# atia do this\n",
    "\n",
    "\n",
    "def number_of_beams(sym_image):\n",
    "    \"\"\"\n",
    "    returns the number of beams that are found in beaming symbols    \n",
    "    arguments:\n",
    "    sym_image: this is an image of small size\n",
    "    \"\"\"\n",
    "    pass\n",
    "\n",
    "def filled_holes_centers(char, radius):\n",
    "    \"\"\"\n",
    "    returns: the centers of the filed holes found in the sym_image\n",
    "    eg: [(x1,y1), (x2,y2)]\n",
    "    arguments:\n",
    "    sym_image: this is an image of small size where the filled_ovals\n",
    "    \"\"\"\n",
    "    padded_char = padd_image(char)    \n",
    "    erroded_image = cv2.erode(padded_char,kernel=disk(radius),iterations = 1)        \n",
    "    b_boxes = get_external_bounding_boxes(erroded_image)\n",
    "    centers = []\n",
    "    for box in b_boxes:\n",
    "        X,Y,w,h = box\n",
    "        cx = X+w//2\n",
    "        cy=Y+h//2\n",
    "        centers.append((cx,cy))\n",
    "\n",
    "    return centers\n",
    "\n",
    "def which_accidentals(sym_image):\n",
    "    \"\"\"\n",
    "    returns: accidental is found in that image\n",
    "    returns '#' if # or '&' if b or ' '(space) if neutral '##' if X '&&' if bb\n",
    "    or return ''(empty) or None if not any of these\n",
    "    arguments:\n",
    "    sym_image: this is an image of small size\n",
    "    \"\"\"\n",
    "    pass"
   ]
  },
  {
   "cell_type": "code",
   "execution_count": 5,
   "metadata": {},
   "outputs": [],
   "source": [
    "# classes\n",
    "class staff_meta(object):\n",
    "    division_height = -1\n",
    "    line_thickness = -1\n",
    "    staff_lines_y_coords = []\n",
    "notes_pitch = [\n",
    "    'e',    # bottom line (or the 5th from above)\n",
    "    'f',\n",
    "    'g',\n",
    "    'a',\n",
    "    'b',\n",
    "    'c',\n",
    "    'd'\n",
    "]\n"
   ]
  },
  {
   "cell_type": "code",
   "execution_count": 93,
   "metadata": {},
   "outputs": [
    {
     "name": "stdout",
     "output_type": "stream",
     "text": [
      "6.jpg 27\n",
      "Half-Note2.png 46\n",
      "Half-Note1.png 46\n",
      "3.jpg 32\n",
      "G-Clef-Note.png 61\n",
      "Half-Note3.png 42\n",
      "1.jpg 7\n",
      "8.jpg 19\n",
      "2.jpg 17\n",
      "Whole-Note.png 18\n",
      "5.jpg 34\n",
      "9.jpg 38\n",
      "4.jpg 18\n",
      "7.jpg 16\n",
      "\n",
      "8th-Note2.png 36\n",
      "8th-Note4.png 41\n",
      "8th-Note1.png 53\n",
      "8th-Note3.png 48\n",
      "Quarter-Note1.png 45\n"
     ]
    }
   ],
   "source": [
    "def read_Image(imgLocation):\n",
    "    original_image = io.imread(imgLocation)\n",
    "    if len(original_image.shape) != 2:\n",
    "        gray_image = cv2.cvtColor(original_image, cv2.COLOR_BGR2GRAY)\n",
    "    else:\n",
    "        gray_image = original_image\n",
    "    binary_image = binarize(gray_image)\n",
    "    return binary_image\n",
    "\n",
    "####################################\n",
    "# Data Set\n",
    "sift = cv2.xfeatures2d.SIFT_create()\n",
    "\n",
    "\n",
    "DataSets_Path = ['images/dataset0','images/dataset1']\n",
    "List_Path = []\n",
    "\n",
    "for path in DataSets_Path:\n",
    "    List_Path.append(os.listdir(path))\n",
    "\n",
    "DataSet0 = []\n",
    "for imgLocation in List_Path[0]:\n",
    "    img = cv2.imread( f'{DataSets_Path[0]}/{imgLocation}', 0)\n",
    "    kp , des = sift.detectAndCompute( img , None )\n",
    "    DataSet0.append( [img, os.path.splitext(imgLocation)[0],des] )\n",
    "    print( imgLocation , len(des) )\n",
    "print()\n",
    "DataSet1 = []\n",
    "for imgLocation in List_Path[1]:\n",
    "    img = cv2.imread( f'{DataSets_Path[1]}/{imgLocation}', 0)\n",
    "    kp , des = sift.detectAndCompute( img , None )\n",
    "    DataSet1.append( [img, os.path.splitext(imgLocation)[0],des] )\n",
    "    print( imgLocation , len(des) )\n"
   ]
  },
  {
   "cell_type": "code",
   "execution_count": 77,
   "metadata": {},
   "outputs": [],
   "source": [
    "# Matching\n",
    "bf = cv2.BFMatcher()\n",
    "\n",
    "def Matcher( char , n ):\n",
    "    DataSet = []\n",
    "    if n == 0:\n",
    "        DataSet = DataSet0\n",
    "    elif n == 1:\n",
    "        DataSet = DataSet1\n",
    "    \n",
    "    kp , des = sift.detectAndCompute(char,None)\n",
    "    \n",
    "    MatchLengthes = []\n",
    "    \n",
    "    maxGoodMatches = 0\n",
    "    classifiedName = \"\"\n",
    "    \n",
    "    if len(kp) > 0:\n",
    "        matchlengthes = []\n",
    "        for s in DataSet:\n",
    "            matches = bf.knnMatch(s[2],des,k=2)\n",
    "            #matches = bf.knnMatch(des,s[2],k=2)\n",
    "            \n",
    "            good = [[m] for m, n in matches if m.distance < 0.635*n.distance]\n",
    "            if len(good) > maxGoodMatches:\n",
    "                maxGoodMatches = len(good)\n",
    "                classifiedName = s[1]\n",
    "            matchlengthes.append(len(good))\n",
    "        if maxGoodMatches > 2:\n",
    "            return [classifiedName,matchlengthes]\n",
    "    return 0"
   ]
  },
  {
   "cell_type": "code",
   "execution_count": 10,
   "metadata": {},
   "outputs": [],
   "source": [
    "def get_trace_meta(image):\n",
    "    if len(image.shape) != 2:\n",
    "        gray = cv2.cvtColor(image,cv2.COLOR_BGR2GRAY)\n",
    "    else:\n",
    "        gray = image        \n",
    "    thresh = cv2.threshold(gray, 0, 255, cv2.THRESH_BINARY_INV + cv2.THRESH_OTSU)[1]\n",
    "    width = gray.shape[1]//5\n",
    "    # Remove horizontal\n",
    "    horizontal_kernel = cv2.getStructuringElement(cv2.MORPH_RECT, (width,1))\n",
    "\n",
    "    # thresh = cv2.Canny(thresh, 30, 200) \n",
    "    detected_lines = cv2.morphologyEx(thresh, cv2.MORPH_OPEN, horizontal_kernel, iterations=2)\n",
    "\n",
    "    cnts = cv2.findContours(detected_lines, cv2.RETR_EXTERNAL, cv2.CHAIN_APPROX_NONE)\n",
    "    cnts = cnts[0] if len(cnts) == 2 else cnts[1]\n",
    "    division_height=0\n",
    "    h_max = 1\n",
    "    bounding_rects = []\n",
    "    for c in cnts:\n",
    "        bounding_rects.append(cv2.boundingRect(c))\n",
    "\n",
    "    for b_rect in bounding_rects:\n",
    "        X,Y,w,h = b_rect\n",
    "        if h > h_max:\n",
    "            h_max = h\n",
    "    def contour_y(c):\n",
    "        return c[1]\n",
    "    bounding_rects = sorted(bounding_rects, key=contour_y)\n",
    "    lines_y_coordinates = [ b[1] for b in bounding_rects]\n",
    "    div_height = bounding_rects[1][1] - bounding_rects[0][1]\n",
    "    s_meta = staff_meta()\n",
    "    s_meta.division_height = div_height\n",
    "    s_meta.line_thickness = h_max\n",
    "    s_meta.staff_lines_y_coords = lines_y_coordinates\n",
    "    return s_meta"
   ]
  },
  {
   "cell_type": "code",
   "execution_count": 11,
   "metadata": {},
   "outputs": [],
   "source": [
    "def padd_image(img):\n",
    "    \"\"\"\n",
    "    this functions padds an image this is very important \n",
    "    when applying erosion as applying erosion to border \n",
    "    may result false postives\n",
    "    \"\"\"\n",
    "    out_img = np.zeros((img.shape[0]+2,img.shape[1]+2), dtype=np.uint8)\n",
    "    out_img[1:out_img.shape[0]-1,1:out_img.shape[1]-1] = img\n",
    "    return out_img"
   ]
  },
  {
   "cell_type": "code",
   "execution_count": 12,
   "metadata": {},
   "outputs": [],
   "source": [
    "def conv_255_true(image):\n",
    "    image[image == 255] = True\n",
    "    image[image == 0] = False\n",
    "    return image\n",
    "def remove_horizontal_wrapper(org_image, inv_image):\n",
    "    # both org_image and inv_image must uint8 \n",
    "    line_width, no_staf_1 = remove_horizontal_lines(org_image)\n",
    "    no_staf_1 = conv_255_true(no_staf_1)\n",
    "    no_staf = no_staf_1\n",
    "    inv_image = conv_255_true(inv_image)\n",
    "    no_staf = np.bitwise_and(no_staf, inv_image)\n",
    "    return no_staf\n",
    "def remove_horizontal_lines(image):\n",
    "    if len(image.shape) != 2:\n",
    "        gray = cv2.cvtColor(image,cv2.COLOR_BGR2GRAY)\n",
    "    else:\n",
    "        gray = image\n",
    "    thresh = cv2.threshold(gray, 0, 255, cv2.THRESH_BINARY_INV + cv2.THRESH_OTSU)[1]\n",
    "    width = gray.shape[1]//5\n",
    "    # Remove horizontal\n",
    "    horizontal_kernel = cv2.getStructuringElement(cv2.MORPH_RECT, (width,1))\n",
    "\n",
    "    # thresh = cv2.Canny(thresh, 30, 200) \n",
    "    detected_lines = cv2.morphologyEx(thresh, cv2.MORPH_OPEN, horizontal_kernel, iterations=2)\n",
    "\n",
    "    cnts = cv2.findContours(detected_lines, cv2.RETR_EXTERNAL, cv2.CHAIN_APPROX_NONE)\n",
    "\n",
    "    cnts = cnts[0] if len(cnts) == 2 else cnts[1]\n",
    "\n",
    "    h_max = 1\n",
    "    for c in cnts:\n",
    "        X,Y,w,h = cv2.boundingRect(c)\n",
    "        if h > h_max:\n",
    "            h_max=h\n",
    "    for c in cnts:   \n",
    "#         print(h_max)\n",
    "        cv2.drawContours(gray, [c], -1, 255, h_max)\n",
    "#         cv2.imshow('result', gray)\n",
    "#         cv2.waitKey()\n",
    "#     cv2.destroyAllWindows()\n",
    "\n",
    "\n",
    "    # Repair image\n",
    "    repair_kernel = cv2.getStructuringElement(cv2.MORPH_RECT, (1,h_max*3))\n",
    "#     print(\"repair\", repair_kernel)\n",
    "    result = 255-cv2.morphologyEx(255 - gray, cv2.MORPH_CLOSE, repair_kernel, iterations=1)\n",
    "#     cv2.imshow('result', gray)\n",
    "#     cv2.waitKey()\n",
    "    result = cv2.threshold(result, 0, 255, cv2.THRESH_BINARY_INV + cv2.THRESH_OTSU)[1]\n",
    "\n",
    "    return h_max,result"
   ]
  },
  {
   "cell_type": "code",
   "execution_count": 13,
   "metadata": {},
   "outputs": [],
   "source": [
    "def get_external_bounding_boxes(img):\n",
    "    \"\"\"\n",
    "    this function takes and image and returns an array\n",
    "    of bounding rectangle [(X1,Y1,W1,H1),(X2,Y2,W2,H2),....]\n",
    "    where \n",
    "    Wi: is the width\n",
    "    Hi: is the height\n",
    "    \"\"\"\n",
    "    cnts = cv2.findContours(img, cv2.RETR_EXTERNAL, cv2.CHAIN_APPROX_SIMPLE)\n",
    "    cnts = cnts[0] if len(cnts) == 2 else cnts[1]\n",
    "    bounding_rects = []\n",
    "    for c in cnts:\n",
    "        b_r = cv2.boundingRect(c)\n",
    "        # X,Y,w,h = b_r\n",
    "        bounding_rects.append(b_r)    # \n",
    "    def contour_x(c):\n",
    "        return c[0]\n",
    "    bounding_rects = sorted(bounding_rects, key=contour_x)\n",
    "    return bounding_rects\n",
    "def draw_external_bounding_boxes(img,b_rects):\n",
    "    out = img.copy()\n",
    "    for b_r in b_rects:\n",
    "        X,Y,w,h = b_r\n",
    "        out = cv2.rectangle(out, (X,Y), (X+w, Y+h),1,3)\n",
    "    return out"
   ]
  },
  {
   "cell_type": "code",
   "execution_count": 14,
   "metadata": {},
   "outputs": [],
   "source": [
    "# common functions\n",
    "def binary_opening(img, selem):\n",
    "    return binary_dilation(binary_erosion(img, selem=selem), selem=selem)\n",
    "\n",
    "def get_bounding_boxes(img,box_aspect_ratio):\n",
    "    \"\"\"\n",
    "    summary: this function returns the bounding boxes sorted according to x-min\n",
    "    parameter:\n",
    "    img: is a binary image for which to find the contours \n",
    "    aspect_ratio: is a tuple where (low_aspect_ratio,high_aspect_ratio)\n",
    "    \"\"\"\n",
    "    contours = find_contours(img,.8, fully_connected=\"low\")\n",
    "    bounding_boxes=[]\n",
    "    for contour in contours:\n",
    "        Xmin= np.min(contour[:,1])\n",
    "        Xmax=np.max(contour[:,1]) \n",
    "        Ymin=np.min(contour[:,0])\n",
    "        Ymax = np.max(contour[:,0])\n",
    "        if(Ymax-Ymin != 0):\n",
    "            aspect_ratio = (Xmax-Xmin)/(Ymax-Ymin)\n",
    "        else:\n",
    "            aspect_ratio = 3000\n",
    "            \n",
    "        if aspect_ratio >= box_aspect_ratio[0] and aspect_ratio <= box_aspect_ratio[1]:\n",
    "            bounding_boxes.append([int(round(Xmin)),int(round(Xmax)),int(round(Ymin)),int(round(Ymax))])\n",
    "    \n",
    "    \n",
    "    def x_min(shape):\n",
    "        return shape[0]             \n",
    "\n",
    "    bounding_boxes = sorted(bounding_boxes, key=x_min)\n",
    "    return bounding_boxes\n",
    "#     no_duplicated_boxes=[bounding_boxes[0]]\n",
    "#     for i in range(1, len(bounding_boxes)):\n",
    "#         pre_box=bounding_boxes[i-1]\n",
    "#         curr_box = bounding_boxes[i]\n",
    "#         if curr_box[0] >= pre_box[0] and curr_box[1] <= pre_box[1] and curr_box[2] >= pre_box[2] and curr_box[3]<= pre_box[3]:\n",
    "#             continue\n",
    "#         else:\n",
    "#             no_duplicated_boxes.append(curr_box)\n",
    "#         print(pre_box,\" --- \" ,curr_box)\n",
    "#     return no_duplicated_boxes\n",
    "\n",
    "\n",
    "def get_bounded_image(img,bounding_boxes):\n",
    "    conte = np.zeros(img.shape)\n",
    "    for box in bounding_boxes:\n",
    "        [Xmin, Xmax, Ymin, Ymax] = box\n",
    "        rr, cc = rectangle(start = (Ymin,Xmin), end = (Ymax,Xmax), shape=img.shape)\n",
    "        rr = rr.astype(np.int)\n",
    "        cc= cc.astype(np.int)\n",
    "        conte[rr, cc] = 1 #set color white\n",
    "    img2 = np.where(conte==1, img, 0)\n",
    "    return img2\n",
    "def draw_bounding_boxes(img,bounding_boxes):\n",
    "    conte = np.zeros(img.shape)\n",
    "    for box in bounding_boxes:\n",
    "        [Xmin, Xmax, Ymin, Ymax] = box\n",
    "        rr, cc = rectangle(start = (Ymin,Xmin), end = (Ymax,Xmax), shape=img.shape)\n",
    "        rr = rr.astype(np.int)\n",
    "        cc= cc.astype(np.int)\n",
    "        conte[rr, cc] = 1 #set color white\n",
    "    img2 = np.where(conte==1, img, 0)\n",
    "    show_images([conte,img2], ['bounding_boxes','original segmented'])\n"
   ]
  },
  {
   "cell_type": "code",
   "execution_count": 15,
   "metadata": {},
   "outputs": [
    {
     "data": {
      "image/png": "[encoded data removed]",
      "text/plain": [
       "<Figure size 432x288 with 1 Axes>"
      ]
     },
     "metadata": {
      "needs_background": "light"
     },
     "output_type": "display_data"
    },
    {
     "data": {
      "image/png": "[encoded data removed]",
      "text/plain": [
       "<Figure size 432x288 with 1 Axes>"
      ]
     },
     "metadata": {
      "needs_background": "light"
     },
     "output_type": "display_data"
    },
    {
     "name": "stdout",
     "output_type": "stream",
     "text": [
      "[[False False False ... False False False]\n",
      " [False False False ... False False False]\n",
      " [False False False ... False False False]\n",
      " ...\n",
      " [False False False ... False False False]\n",
      " [False False False ... False False False]\n",
      " [False False False ... False False False]]\n"
     ]
    },
    {
     "data": {
      "image/png": "[encoded data removed]",
      "text/plain": [
       "<Figure size 1296x864 with 3 Axes>"
      ]
     },
     "metadata": {
      "needs_background": "light"
     },
     "output_type": "display_data"
    },
    {
     "name": "stdout",
     "output_type": "stream",
     "text": [
      "11648\n"
     ]
    }
   ],
   "source": [
    "# images_paths = ['images/music1.JPG', 'images/32_sheet_001.jpg','images/8th_Sheet1.jpeg']\n",
    "# images_paths = ['test-cases/01.png','test-cases/02.png','images/music1.JPG', 'images/32_sheet_001.jpg','images/8th_Sheet1.jpeg']\n",
    "images_paths = [ f\"test-cases/0{i+1}.PNG\" for i in range(9)]\n",
    "\n",
    "original_image = io.imread(images_paths[0])\n",
    "gray_image = rgb2gray(original_image)\n",
    "show_images([gray_image], ['gray'])\n",
    "binary_image = binarize(gray_image)\n",
    "inverted_image = 255 - binary_image\n",
    "\n",
    "inverted_image[:, inverted_image.shape[1]-1]=0\n",
    "rows=1\n",
    "cols=original_image.shape[1] // 4\n",
    "selem = rect(rows,cols)\n",
    "erroded_img = binary_erosion(inverted_image,selem=selem)\n",
    "\n",
    "rows=1\n",
    "cols=original_image.shape[1] // 4\n",
    "selem = rect(rows,cols)\n",
    "erroded_img2 = binary_dilation(erroded_img, selem=selem)\n",
    "# inverted_image2 = inverted_image - erroded_img2\n",
    "\n",
    "show_images([erroded_img2], ['erroded2'])\n",
    "print(erroded_img)\n",
    "rows = original_image.shape[0] // 8\n",
    "cols = 1\n",
    "selem = rect(rows,cols)\n",
    "closed_img  = binary_closing(erroded_img2, selem = selem)\n",
    "\n",
    "\n",
    "# closed_img  = binary_closing(closed_img, selem = selem)\n",
    "show_images([inverted_image,erroded_img2,closed_img],['original image','erroded-dilated','closed'])\n",
    "\n",
    "staffs_area = np.sum(erroded_img2)\n",
    "print(staffs_area)"
   ]
  },
  {
   "cell_type": "code",
   "execution_count": 84,
   "metadata": {},
   "outputs": [],
   "source": [
    "#  calculate the trace bounding boxes\n",
    "trace_bounding_boxes = get_bounding_boxes(closed_img,(1,4000))\n",
    "# print(trace_bounding_boxes)\n",
    "bigger_trace_bounding_boxes = []\n",
    "trace_images_array = []\n",
    "division_height=0\n",
    "trace_height = 0\n",
    "for box in trace_bounding_boxes:\n",
    "    trace_height = box[3]-box[2]\n",
    "    trace_width = box[1] - box[0]\n",
    "    division_height = (trace_height)/4\n",
    "    division_height = int(np.ceil(division_height)) \n",
    "#     division_height *=2\n",
    "    [Xmin, Xmax, Ymin, Ymax] = [int(round(x)) for x in box]\n",
    "    Ymin -= 2 * division_height\n",
    "    Ymin = Ymin if Ymin >0 else 0\n",
    "    Ymax += 2 * division_height\n",
    "    bigger_trace_bounding_boxes.append([Xmin, Xmax, Ymin, Ymax])\n",
    "    trace_images_array.append(gray_image[Ymin:Ymax,Xmin:Xmax])\n",
    "staff_length = bigger_trace_bounding_boxes\n",
    "\n",
    "# print(staffs_area, trace_width)\n",
    "\n",
    "# print(staffs_area // (len(bigger_trace_bounding_boxes) * 5 *trace_width ))\n",
    "\n",
    "# print(bigger_trace_bounding_boxes)\n",
    "# print(inverted_image.shape)"
   ]
  },
  {
   "cell_type": "code",
   "execution_count": 94,
   "metadata": {},
   "outputs": [
    {
     "data": {
      "image/png": "[encoded data removed]",
      "text/plain": [
       "<Figure size 432x288 with 1 Axes>"
      ]
     },
     "metadata": {
      "needs_background": "light"
     },
     "output_type": "display_data"
    },
    {
     "name": "stdout",
     "output_type": "stream",
     "text": [
      "width: 55, height: 149, division_height: 22\n",
      "oval_centers  []\n",
      "this is may be a clef, half, whole , a number or accidentals noise or beam\n",
      "['G-Clef-Note', [0, 0, 0, 0, 32, 0, 0, 0, 0, 0, 0, 0, 0, 0]]\n",
      "\n"
     ]
    },
    {
     "data": {
      "image/png": "[encoded data removed]",
      "text/plain": [
       "<Figure size 432x288 with 1 Axes>"
      ]
     },
     "metadata": {
      "needs_background": "light"
     },
     "output_type": "display_data"
    },
    {
     "name": "stdout",
     "output_type": "stream",
     "text": [
      "width: 28, height: 86, division_height: 22\n",
      "oval_centers  [(14, 77)]\n",
      "this maybe a quarter or 8th or 16th or 32th or a clef\n",
      "['Quarter-Note1', [6, 0, 7, 2, 9]]\n",
      "\n"
     ]
    },
    {
     "data": {
      "image/png": "[encoded data removed]",
      "text/plain": [
       "<Figure size 432x288 with 1 Axes>"
      ]
     },
     "metadata": {
      "needs_background": "light"
     },
     "output_type": "display_data"
    },
    {
     "name": "stdout",
     "output_type": "stream",
     "text": [
      "width: 50, height: 104, division_height: 22\n",
      "oval_centers  [(14, 94)]\n",
      "this maybe a quarter or 8th or 16th or 32th or a clef\n",
      "['8th-Note1', [0, 0, 6, 3, 3]]\n",
      "\n"
     ]
    },
    {
     "data": {
      "image/png": "[encoded data removed]",
      "text/plain": [
       "<Figure size 432x288 with 1 Axes>"
      ]
     },
     "metadata": {
      "needs_background": "light"
     },
     "output_type": "display_data"
    },
    {
     "name": "stdout",
     "output_type": "stream",
     "text": [
      "width: 27, height: 86, division_height: 22\n",
      "oval_centers  []\n",
      "this is may be a clef, half, whole , a number or accidentals noise or beam\n",
      "['Half-Note2', [0, 8, 7, 0, 0, 8, 0, 1, 0, 0, 0, 0, 0, 0]]\n",
      "\n"
     ]
    },
    {
     "data": {
      "image/png": "[encoded data removed]",
      "text/plain": [
       "<Figure size 432x288 with 1 Axes>"
      ]
     },
     "metadata": {
      "needs_background": "light"
     },
     "output_type": "display_data"
    },
    {
     "name": "stdout",
     "output_type": "stream",
     "text": [
      "width: 28, height: 86, division_height: 22\n",
      "oval_centers  [(14, 77)]\n",
      "this maybe a quarter or 8th or 16th or 32th or a clef\n",
      "0\n",
      "\n"
     ]
    },
    {
     "data": {
      "image/png": "[encoded data removed]",
      "text/plain": [
       "<Figure size 432x288 with 1 Axes>"
      ]
     },
     "metadata": {
      "needs_background": "light"
     },
     "output_type": "display_data"
    },
    {
     "name": "stdout",
     "output_type": "stream",
     "text": [
      "width: 28, height: 110, division_height: 22\n",
      "oval_centers  [(14, 100), (15, 78)]\n",
      "this is a chord\n",
      "\n"
     ]
    },
    {
     "data": {
      "image/png": "[encoded data removed]",
      "text/plain": [
       "<Figure size 432x288 with 1 Axes>"
      ]
     },
     "metadata": {
      "needs_background": "light"
     },
     "output_type": "display_data"
    },
    {
     "name": "stdout",
     "output_type": "stream",
     "text": [
      "width: 27, height: 89, division_height: 22\n",
      "oval_centers  []\n",
      "this is may be a clef, half, whole , a number or accidentals noise or beam\n",
      "['Half-Note3', [0, 3, 4, 0, 1, 7, 0, 0, 0, 0, 0, 0, 0, 0]]\n",
      "\n"
     ]
    },
    {
     "data": {
      "image/png": "[encoded data removed]",
      "text/plain": [
       "<Figure size 432x288 with 1 Axes>"
      ]
     },
     "metadata": {
      "needs_background": "light"
     },
     "output_type": "display_data"
    },
    {
     "name": "stdout",
     "output_type": "stream",
     "text": [
      "width: 49, height: 86, division_height: 22\n",
      "oval_centers  [(14, 77)]\n",
      "this maybe a quarter or 8th or 16th or 32th or a clef\n",
      "['Quarter-Note1', [4, 0, 2, 2, 6]]\n",
      "\n"
     ]
    },
    {
     "data": {
      "image/png": "[encoded data removed]",
      "text/plain": [
       "<Figure size 432x288 with 1 Axes>"
      ]
     },
     "metadata": {
      "needs_background": "light"
     },
     "output_type": "display_data"
    },
    {
     "name": "stdout",
     "output_type": "stream",
     "text": [
      "width: 45, height: 89, division_height: 22\n",
      "oval_centers  [(24, 79)]\n",
      "this maybe a quarter or 8th or 16th or 32th or a clef\n",
      "['Quarter-Note1', [3, 1, 4, 2, 11]]\n",
      "\n"
     ]
    },
    {
     "data": {
      "image/png": "[encoded data removed]",
      "text/plain": [
       "<Figure size 432x288 with 1 Axes>"
      ]
     },
     "metadata": {
      "needs_background": "light"
     },
     "output_type": "display_data"
    },
    {
     "name": "stdout",
     "output_type": "stream",
     "text": [
      "width: 49, height: 88, division_height: 22\n",
      "oval_centers  [(15, 78)]\n",
      "this maybe a quarter or 8th or 16th or 32th or a clef\n",
      "['8th-Note1', [10, 2, 11, 3, 9]]\n",
      "\n"
     ]
    },
    {
     "data": {
      "image/png": "[encoded data removed]",
      "text/plain": [
       "<Figure size 432x288 with 1 Axes>"
      ]
     },
     "metadata": {
      "needs_background": "light"
     },
     "output_type": "display_data"
    },
    {
     "name": "stdout",
     "output_type": "stream",
     "text": [
      "width: 45, height: 89, division_height: 22\n",
      "oval_centers  [(24, 79)]\n",
      "this maybe a quarter or 8th or 16th or 32th or a clef\n",
      "['8th-Note2', [4, 0, 4, 0, 0]]\n",
      "\n"
     ]
    },
    {
     "data": {
      "image/png": "[encoded data removed]",
      "text/plain": [
       "<Figure size 432x288 with 1 Axes>"
      ]
     },
     "metadata": {
      "needs_background": "light"
     },
     "output_type": "display_data"
    },
    {
     "name": "stdout",
     "output_type": "stream",
     "text": [
      "width: 35, height: 21, division_height: 22\n",
      "oval_centers  []\n",
      "this is may be a clef, half, whole , a number or accidentals noise or beam\n",
      "0\n",
      "\n"
     ]
    },
    {
     "data": {
      "image/png": "[encoded data removed]",
      "text/plain": [
       "<Figure size 432x288 with 1 Axes>"
      ]
     },
     "metadata": {
      "needs_background": "light"
     },
     "output_type": "display_data"
    },
    {
     "name": "stdout",
     "output_type": "stream",
     "text": [
      "width: 4, height: 86, division_height: 22\n",
      "oval_centers  []\n",
      "this is may be a clef, half, whole , a number or accidentals noise or beam\n",
      "0\n",
      "\n"
     ]
    },
    {
     "data": {
      "image/png": "[encoded data removed]",
      "text/plain": [
       "<Figure size 432x288 with 1 Axes>"
      ]
     },
     "metadata": {
      "needs_background": "light"
     },
     "output_type": "display_data"
    },
    {
     "name": "stdout",
     "output_type": "stream",
     "text": [
      "width: 11, height: 86, division_height: 22\n",
      "oval_centers  []\n",
      "this is may be a clef, half, whole , a number or accidentals noise or beam\n",
      "0\n",
      "\n"
     ]
    }
   ],
   "source": [
    "# for each trace segment the individual characters\n",
    "no_horizontal_staff_images = []\n",
    "staff_images = []\n",
    "gray_staff_images=[]\n",
    "sh = lambda x: print (\"shape is \",x.shape)\n",
    "line_height = 3\n",
    "for i, trace in enumerate(bigger_trace_bounding_boxes):\n",
    "    [Xmin, Xmax, Ymin, Ymax] = [x for x in trace]\n",
    "    newOrigin = [Xmin,Ymin]\n",
    "    \n",
    "    #show_images([original_image[Ymin:Ymax,Xmin:Xmax]], ['ori'])\n",
    "    no_staf=remove_horizontal_wrapper(original_image[Ymin:Ymax,Xmin:Xmax],inverted_image[Ymin:Ymax,Xmin:Xmax].astype(np.uint8) )\n",
    "    no_horizontal_staff_images.append(no_staf)\n",
    "    # show_images([no_staf], ['no_staf'])\n",
    "    \n",
    "    char_boxes = get_external_bounding_boxes(no_staf)\n",
    "    out = draw_external_bounding_boxes(no_staf, char_boxes)\n",
    "    #show_images([out,no_staf])\n",
    "    #print(char_boxes)\n",
    "    # io.imsave('test.jpg', no_staf*255)\n",
    "    # break\n",
    "    j=0\n",
    "    chars = []\n",
    "    org_chars = []\n",
    "    trace_info: staff_meta = get_trace_meta(original_image[Ymin:Ymax,Xmin:Xmax])\n",
    "    # print(trace_info.__dict__)\n",
    "    \n",
    "    for box in char_boxes:\n",
    "        [Xmin, Ymin, W, H] = [x for x in box]\n",
    "        # remove blank or noisy area that is less than a line of pixels\n",
    "        char = no_staf[Ymin:Ymin+H,Xmin:Xmin+W]\n",
    "        org_char = original_image[Ymin+newOrigin[1]:Ymin+H+newOrigin[1],Xmin+newOrigin[0]:Xmin+W+newOrigin[0]]\n",
    "\n",
    "        # reject noise before appending\n",
    "        # 1. box area == 0\n",
    "        if(np.sum(char) == 0):\n",
    "            continue\n",
    "        \n",
    "        # print(filled_holes_centers(char,trace_info.division_height))\n",
    "        \n",
    "        radius = int(trace_info.division_height // 3 )\n",
    "        # padded_char = padd_image(char)        \n",
    "        # erroded_image = cv2.erode(padded_char,kernel=disk(radius),iterations = 1)        \n",
    "        # b_boxes = get_external_bounding_boxes(erroded_image)\n",
    "        \n",
    "        oval_centers = filled_holes_centers(char, radius)\n",
    "        \n",
    "        show_images([org_char])\n",
    "        print(\"width: {}, height: {}, division_height: {}\".format(W,H,trace_info.division_height))\n",
    "        print(\"oval_centers \",oval_centers)\n",
    "\n",
    "        if W < trace_info.division_height//2 and H < trace_info.division_height//2:\n",
    "            # use the properties of a dot or circle to know for sure it is a dot\n",
    "            print(\"this may be a dot or noise\")\n",
    "        else:\n",
    "            if len(oval_centers) == 0:\n",
    "                # use sift to distinguish between them\n",
    "                print(\"this is may be a clef, half, whole , a number or accidentals noise or beam\")\n",
    "                matcherout = Matcher(org_char , 0)\n",
    "                print(matcherout)\n",
    "                \n",
    "            elif len(oval_centers) == 1:\n",
    "                print(\"this maybe a quarter or 8th or 16th or 32th or a clef\")\n",
    "                matcherout = Matcher(org_char , 1)\n",
    "                print(matcherout)\n",
    "            elif len(oval_centers) >= 2:\n",
    "                # print(\"this note is beamed or chords\")\n",
    "                # using the x difference between the 1st 2 centre we can separate between chords \n",
    "                # or beams\n",
    "                if oval_centers[1][0] - oval_centers[0][0] > int(1.5*trace_info.division_height):\n",
    "                    print(\"this is a beam\")\n",
    "                else:\n",
    "                    print(\"this is a chord\")\n",
    "\n",
    "        \n",
    "        chars.append(char)\n",
    "        org_chars.append(org_char)\n",
    "        print()\n",
    "        # \n",
    "        j+=1\n",
    "    # show_images([no_staf], ['no_staf rectangles'])\n",
    "    staff_images.append(chars)\n"
   ]
  },
  {
   "cell_type": "code",
   "execution_count": 78,
   "metadata": {},
   "outputs": [
    {
     "data": {
      "image/png": "[encoded data removed]",
      "image/svg+xml": [
       "<?xml version=\"1.0\" encoding=\"utf-8\" standalone=\"no\"?>\r\n",
       "<!DOCTYPE svg PUBLIC \"-//W3C//DTD SVG 1.1//EN\"\r\n",
       "  \"http://www.w3.org/Graphics/SVG/1.1/DTD/svg11.dtd\">\r\n",
       "<!-- Created with matplotlib (https://matplotlib.org/) -->\r\n",
       "<svg height=\"166.754374pt\" version=\"1.1\" viewBox=\"0 0 349.2 166.754374\" width=\"349.2pt\" xmlns=\"http://www.w3.org/2000/svg\" xmlns:xlink=\"http://www.w3.org/1999/xlink\">\r\n",
       " <defs>\r\n",
       "  <style type=\"text/css\">\r\n",
       "*{stroke-linecap:butt;stroke-linejoin:round;}\r\n",
       "  </style>\r\n",
       " </defs>\r\n",
       " <g id=\"figure_1\">\r\n",
       "  <g id=\"patch_1\">\r\n",
       "   <path d=\"M 0 166.754374 \r\n",
       "L 349.2 166.754374 \r\n",
       "L 349.2 0 \r\n",
       "L 0 0 \r\n",
       "z\r\n",
       "\" style=\"fill:none;\"/>\r\n",
       "  </g>\r\n",
       "  <g id=\"axes_1\">\r\n",
       "   <g clip-path=\"url(#pec6c90e82b)\">\r\n",
       "    <image height=\"138\" id=\"image5852d7a59f\" transform=\"scale(1 -1)translate(0 -138)\" width=\"335\" x=\"7.2\" xlink:href=\"data:image/png;base64,\r\n",
       "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\" y=\"-21.554374\"/>\r\n",
       "   </g>\r\n",
       "   <g id=\"text_1\">\r\n",
       "    <!-- (1) -->\r\n",
       "    <defs>\r\n",
       "     <path d=\"M 31 75.875 \r\n",
       "Q 24.46875 64.65625 21.28125 53.65625 \r\n",
       "Q 18.109375 42.671875 18.109375 31.390625 \r\n",
       "Q 18.109375 20.125 21.3125 9.0625 \r\n",
       "Q 24.515625 -2 31 -13.1875 \r\n",
       "L 23.1875 -13.1875 \r\n",
       "Q 15.875 -1.703125 12.234375 9.375 \r\n",
       "Q 8.59375 20.453125 8.59375 31.390625 \r\n",
       "Q 8.59375 42.28125 12.203125 53.3125 \r\n",
       "Q 15.828125 64.359375 23.1875 75.875 \r\n",
       "z\r\n",
       "\" id=\"DejaVuSans-40\"/>\r\n",
       "     <path d=\"M 12.40625 8.296875 \r\n",
       "L 28.515625 8.296875 \r\n",
       "L 28.515625 63.921875 \r\n",
       "L 10.984375 60.40625 \r\n",
       "L 10.984375 69.390625 \r\n",
       "L 28.421875 72.90625 \r\n",
       "L 38.28125 72.90625 \r\n",
       "L 38.28125 8.296875 \r\n",
       "L 54.390625 8.296875 \r\n",
       "L 54.390625 0 \r\n",
       "L 12.40625 0 \r\n",
       "z\r\n",
       "\" id=\"DejaVuSans-49\"/>\r\n",
       "     <path d=\"M 8.015625 75.875 \r\n",
       "L 15.828125 75.875 \r\n",
       "Q 23.140625 64.359375 26.78125 53.3125 \r\n",
       "Q 30.421875 42.28125 30.421875 31.390625 \r\n",
       "Q 30.421875 20.453125 26.78125 9.375 \r\n",
       "Q 23.140625 -1.703125 15.828125 -13.1875 \r\n",
       "L 8.015625 -13.1875 \r\n",
       "Q 14.5 -2 17.703125 9.0625 \r\n",
       "Q 20.90625 20.125 20.90625 31.390625 \r\n",
       "Q 20.90625 42.671875 17.703125 53.65625 \r\n",
       "Q 14.5 64.65625 8.015625 75.875 \r\n",
       "z\r\n",
       "\" id=\"DejaVuSans-41\"/>\r\n",
       "    </defs>\r\n",
       "    <g transform=\"translate(166.100625 16.318125)scale(0.12 -0.12)\">\r\n",
       "     <use xlink:href=\"#DejaVuSans-40\"/>\r\n",
       "     <use x=\"39.013672\" xlink:href=\"#DejaVuSans-49\"/>\r\n",
       "     <use x=\"102.636719\" xlink:href=\"#DejaVuSans-41\"/>\r\n",
       "    </g>\r\n",
       "   </g>\r\n",
       "  </g>\r\n",
       " </g>\r\n",
       " <defs>\r\n",
       "  <clipPath id=\"pec6c90e82b\">\r\n",
       "   <rect height=\"137.236249\" width=\"334.8\" x=\"7.2\" y=\"22.318125\"/>\r\n",
       "  </clipPath>\r\n",
       " </defs>\r\n",
       "</svg>\r\n"
      ],
      "text/plain": [
       "<Figure size 432x288 with 1 Axes>"
      ]
     },
     "metadata": {
      "needs_background": "light"
     },
     "output_type": "display_data"
    }
   ],
   "source": [
    "show_images([no_horizontal_staff_images[0]])"
   ]
  },
  {
   "cell_type": "code",
   "execution_count": 48,
   "metadata": {},
   "outputs": [],
   "source": [
    "for staff_chars in staff_images:\n",
    "    j=0\n",
    "    j+=1\n",
    "    for char in staff_chars:\n",
    "        i=0\n",
    "        i+=1\n",
    "        # show_images([char],[f\"char {j}-{i}\"])\n",
    "        \n",
    "        \n",
    "        \n",
    "        "
   ]
  },
  {
   "cell_type": "code",
   "execution_count": null,
   "metadata": {},
   "outputs": [],
   "source": [
    "# USING CONNNECTED COMPONENETS\n",
    "\n",
    "ret, labels = cv2.connectedComponents(binary)\n",
    "print(\"hi\")"
   ]
  },
  {
   "cell_type": "code",
   "execution_count": null,
   "metadata": {},
   "outputs": [],
   "source": [
    "\n",
    "from skimage import data\n",
    "from skimage.viewer import ImageViewer\n",
    "\n",
    "image = original_image\n",
    "viewer = ImageViewer(image)\n",
    "viewer.show()"
   ]
  },
  {
   "cell_type": "code",
   "execution_count": null,
   "metadata": {},
   "outputs": [],
   "source": [
    "import cv2\n",
    "def get_avg_contour_areas(contours):\n",
    "    # returns the areas of all contours as list\n",
    "    all_areas = []\n",
    "    for cnt in contours:\n",
    "        area = cv2.contourArea(cnt)\n",
    "        all_areas.append(area)\n",
    "    return  np.average(np.array(all_areas))\n",
    "\n",
    "\n",
    "image = cv2.imread('images/8th_Sheet1.jpeg')\n",
    "gray = cv2.cvtColor(image,cv2.COLOR_BGR2GRAY)\n",
    "thresh = cv2.threshold(gray, 0, 255, cv2.THRESH_BINARY_INV + cv2.THRESH_OTSU)[1]\n",
    "\n",
    "# Remove horizontal\n",
    "horizontal_kernel = cv2.getStructuringElement(cv2.MORPH_RECT, (40,1))\n",
    "\n",
    "# thresh = cv2.Canny(thresh, 30, 200) \n",
    "detected_lines = cv2.morphologyEx(thresh, cv2.MORPH_OPEN, horizontal_kernel, iterations=2)\n",
    "\n",
    "cnts = cv2.findContours(detected_lines, cv2.RETR_EXTERNAL, cv2.CHAIN_APPROX_NONE)\n",
    "\n",
    "cnts = cnts[0] if len(cnts) == 2 else cnts[1]\n",
    "# print(cnts)\n",
    "cont_areas = get_avg_contour_areas(cnts)\n",
    "print(\"avg\" , cont_areas)\n",
    "for c in cnts:\n",
    "    print(len(c))\n",
    "    cv2.drawContours(image, [c], -1, (255,255,255), 2)\n",
    "    print(cv2.boundingRect(c))\n",
    "    cv2.imshow('result', image)\n",
    "    cv2.waitKey()\n",
    "cv2.destroyAllWindows()\n",
    "\n",
    "# Repair image\n",
    "repair_kernel = cv2.getStructuringElement(cv2.MORPH_RECT, (1,6))\n",
    "print(\"repair\", repair_kernel)\n",
    "result = cv2.morphologyEx(255 - image, cv2.MORPH_CLOSE, repair_kernel, iterations=1)\n",
    "kernel = np.ones((1,15),np.uint8)\n",
    "# er = cv2.dilate(result,kernel,iterations = 1)\n",
    "\n",
    "\n",
    "showHist(result)\n",
    "cv2.imshow('thresh', thresh)\n",
    "cv2.imshow('detected_lines', detected_lines)\n",
    "cv2.imshow('image', image)\n",
    "# cv2.imshow('er', er)\n",
    "cv2.imshow('result', result)\n",
    "cv2.waitKey()\n",
    "cv2.destroyAllWindows()\n"
   ]
  },
  {
   "cell_type": "code",
   "execution_count": null,
   "metadata": {
    "scrolled": false
   },
   "outputs": [],
   "source": [
    "import cv2\n",
    "def get_avg_contour_areas(contours):\n",
    "    # returns the areas of all contours as list\n",
    "    all_areas = []\n",
    "    for cnt in contours:\n",
    "        area = cv2.contourArea(cnt)\n",
    "        all_areas.append(area)\n",
    "    return  np.average(np.array(all_areas))\n",
    "# images_paths = [ f\"test-cases/0{i+1}.png\" for i in range(9)]\n",
    "images_paths = ['test-cases/01.png','test-cases/02.png','images/music1.JPG', 'images/32_sheet_001.jpg','images/8th_Sheet1.jpeg']\n",
    "for image_path in images_paths:\n",
    "    image = cv2.imread(image_path)\n",
    "    gray = cv2.cvtColor(image,cv2.COLOR_BGR2GRAY)\n",
    "    thresh = cv2.threshold(gray, 0, 255, cv2.THRESH_BINARY_INV + cv2.THRESH_OTSU)[1]\n",
    "    width = gray.shape[1]//5\n",
    "    # Remove horizontal\n",
    "    horizontal_kernel = cv2.getStructuringElement(cv2.MORPH_RECT, (width,1))\n",
    "\n",
    "    # thresh = cv2.Canny(thresh, 30, 200) \n",
    "    detected_lines = cv2.morphologyEx(thresh, cv2.MORPH_OPEN, horizontal_kernel, iterations=2)\n",
    "\n",
    "    cnts = cv2.findContours(detected_lines, cv2.RETR_EXTERNAL, cv2.CHAIN_APPROX_NONE)\n",
    "\n",
    "    cnts = cnts[0] if len(cnts) == 2 else cnts[1]\n",
    "    # print(cnts)\n",
    "#     print(\"avg\" , cont_areas)\n",
    "    h_max = 1\n",
    "    for c in cnts:\n",
    "        X,Y,w,h = cv2.boundingRect(c)\n",
    "        if h > h_max:\n",
    "            h_max = h\n",
    "       \n",
    "    break   \n",
    "    for c in cnts:   \n",
    "#         print(h_max)\n",
    "        cv2.drawContours(gray, [c], -1, 255, h_max)\n",
    "        cv2.imshow('result', gray)\n",
    "        cv2.waitKey()\n",
    "    cv2.destroyAllWindows()\n",
    "\n",
    "\n",
    "    # Repair image\n",
    "    repair_kernel = cv2.getStructuringElement(cv2.MORPH_RECT, (1,h_max*3))\n",
    "#     print(\"repair\", repair_kernel)\n",
    "    result = cv2.morphologyEx(255 - gray, cv2.MORPH_CLOSE, repair_kernel, iterations=1)\n",
    "    result = cv2.threshold(result, 0, 255, cv2.THRESH_BINARY_INV + cv2.THRESH_OTSU)[1]\n",
    "    showHist(result)\n",
    "    cv2.imshow('thresh', thresh)\n",
    "    cv2.imshow('detected_lines', detected_lines)\n",
    "    cv2.imshow('image', image)\n",
    "    # cv2.imshow('er', er)\n",
    "    cv2.imshow('result', result)\n",
    "    cv2.waitKey()\n",
    "    cv2.destroyAllWindows()\n"
   ]
  },
  {
   "cell_type": "code",
   "execution_count": null,
   "metadata": {},
   "outputs": [],
   "source": [
    "import cv2\n",
    "def get_avg_contour_areas(contours):\n",
    "    # returns the areas of all contours as list\n",
    "    all_areas = []\n",
    "    for cnt in contours:\n",
    "        area = cv2.contourArea(cnt)\n",
    "        all_areas.append(area)\n",
    "    return  np.average(np.array(all_areas))\n",
    "\n",
    "\n",
    "image = cv2.imread('images/8th_Sheet1.jpeg')  \n",
    "gray = cv2.cvtColor(image,cv2.COLOR_BGR2GRAY)\n",
    "thresh = cv2.threshold(gray, 0, 255, cv2.THRESH_BINARY_INV + cv2.THRESH_OTSU)[1]\n",
    "cv2.destroyAllWindows()\n",
    "showHist(thresh)\n",
    "\n"
   ]
  },
  {
   "cell_type": "code",
   "execution_count": null,
   "metadata": {},
   "outputs": [],
   "source": [
    "import cv2\n",
    "images_paths = ['test-cases/01.png','test-cases/02.png','images/music1.JPG', 'images/32_sheet_001.jpg','images/8th_Sheet1.jpeg']\n",
    "image_path = images_paths[0]\n",
    "image = cv2.imread(image_path, cv2.IMREAD_UNCHANGED);\n",
    "gray = cv2.cvtColor(image, cv2.COLOR_BGR2GRAY)\n",
    "binary = cv2.threshold(gray, 0, 255, cv2.THRESH_BINARY | cv2.THRESH_OTSU)[1]\n",
    "\n",
    "# getting mask with connectComponents\n",
    "ret, labels = cv2.connectedComponents(binary)\n",
    "for label in range(1,ret):\n",
    "    mask = np.array(labels, dtype=np.uint8)\n",
    "    mask[labels == label] = 255\n",
    "    cv2.imshow('component',mask)\n",
    "    cv2.waitKey(0)\n",
    "\n",
    "# getting ROIs with findContours\n",
    "contours = cv2.findContours(binary, cv2.RETR_EXTERNAL, cv2.CHAIN_APPROX_SIMPLE)[1]\n",
    "for cnt in contours:\n",
    "    (x,y,w,h) = cv2.boundingRect(cnt)\n",
    "    ROI = image[y:y+h,x:x+w]\n",
    "    cv2.imshow('ROI', ROI)\n",
    "    cv2.waitKey(0)\n",
    "\n",
    "cv2.destroyAllWindows()"
   ]
  },
  {
   "cell_type": "code",
   "execution_count": null,
   "metadata": {
    "tags": []
   },
   "outputs": [],
   "source": [
    "\n",
    "def get_external_bounding_boxes(img):\n",
    "    \"\"\"\n",
    "    this function takes and image and returns an array\n",
    "    of bounding rectangle [(X1,Y1,W1,H1),(X2,Y2,W2,H2),....]\n",
    "    where \n",
    "    Wi: is the width\n",
    "    Hi: is the height\n",
    "    \"\"\"\n",
    "    cnts = cv2.findContours(img, cv2.RETR_EXTERNAL, cv2.CHAIN_APPROX_SIMPLE)\n",
    "    cnts = cnts[0] if len(cnts) == 2 else cnts[1]\n",
    "    bounding_rects = []\n",
    "    for c in cnts:\n",
    "        b_r = cv2.boundingRect(c)\n",
    "        # X,Y,w,h = b_r\n",
    "        bounding_rects.append(b_r)    # \n",
    "    def contour_x(c):\n",
    "        return c[0]\n",
    "    bounding_rects = sorted(bounding_rects, key=contour_x)\n",
    "    return bounding_rects\n",
    "def draw_external_bounding_boxes(img,b_rects):\n",
    "    out = img.copy()\n",
    "    for b_r in b_rects:\n",
    "        X,Y,w,h = b_r\n",
    "        out = cv2.rectangle(out, (X,Y), (X+w, Y+h),1,3)\n",
    "    return out\n",
    "bounding_rects = get_external_bounding_boxes(no_staf)\n",
    "out = draw_external_bounding_boxes(no_staf, bounding_rects)\n",
    "show_images([no_staf, out])\n",
    "print(bounding_rects)\n",
    "for b_rect in bounding_rects:\n",
    "    X,Y,W,H = b_rect\n",
    "    print(box)\n",
    "    show_images([no_staf[Y:Y+H,X:X+W]])\n",
    "    # print(b_rect)\n",
    "# show_images()\n"
   ]
  },
  {
   "cell_type": "code",
   "execution_count": null,
   "metadata": {},
   "outputs": [],
   "source": []
  }
 ],
 "metadata": {
  "kernelspec": {
   "display_name": "Python 3",
   "language": "python",
   "name": "python3"
  },
  "language_info": {
   "codemirror_mode": {
    "name": "ipython",
    "version": 3
   },
   "file_extension": ".py",
   "mimetype": "text/x-python",
   "name": "python",
   "nbconvert_exporter": "python",
   "pygments_lexer": "ipython3",
   "version": "3.8.3"
  }
 },
 "nbformat": 4,
 "nbformat_minor": 4
}
